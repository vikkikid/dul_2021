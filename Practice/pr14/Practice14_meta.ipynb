{
  "nbformat": 4,
  "nbformat_minor": 0,
  "metadata": {
    "colab": {
      "name": "Practice14_meta.ipynb",
      "provenance": [],
      "collapsed_sections": [
        "kqMshuwnxqxa",
        "I5RW6hAk1Y2d",
        "gLhWOrXHsIGE"
      ],
      "authorship_tag": "ABX9TyPMAxi5ILGndkM9G2wRueGw",
      "include_colab_link": true
    },
    "kernelspec": {
      "name": "python3",
      "display_name": "Python 3"
    },
    "language_info": {
      "name": "python"
    },
    "widgets": {
      "application/vnd.jupyter.widget-state+json": {
        "4208d10d54c746daaacf8e92e4ff2800": {
          "model_module": "@jupyter-widgets/controls",
          "model_name": "HBoxModel",
          "model_module_version": "1.5.0",
          "state": {
            "_view_name": "HBoxView",
            "_dom_classes": [],
            "_model_name": "HBoxModel",
            "_view_module": "@jupyter-widgets/controls",
            "_model_module_version": "1.5.0",
            "_view_count": null,
            "_view_module_version": "1.5.0",
            "box_style": "",
            "layout": "IPY_MODEL_85d8ac418e224da1be2b3e67e25ca74f",
            "_model_module": "@jupyter-widgets/controls",
            "children": [
              "IPY_MODEL_ff23e0c693324241b26c1b91513220f7",
              "IPY_MODEL_3aa2596061ac4f55bc849c2268e251a4",
              "IPY_MODEL_f8a947e0aa7a4410a746e697106ac0ad"
            ]
          }
        },
        "85d8ac418e224da1be2b3e67e25ca74f": {
          "model_module": "@jupyter-widgets/base",
          "model_name": "LayoutModel",
          "model_module_version": "1.2.0",
          "state": {
            "_view_name": "LayoutView",
            "grid_template_rows": null,
            "right": null,
            "justify_content": null,
            "_view_module": "@jupyter-widgets/base",
            "overflow": null,
            "_model_module_version": "1.2.0",
            "_view_count": null,
            "flex_flow": null,
            "width": null,
            "min_width": null,
            "border": null,
            "align_items": null,
            "bottom": null,
            "_model_module": "@jupyter-widgets/base",
            "top": null,
            "grid_column": null,
            "overflow_y": null,
            "overflow_x": null,
            "grid_auto_flow": null,
            "grid_area": null,
            "grid_template_columns": null,
            "flex": null,
            "_model_name": "LayoutModel",
            "justify_items": null,
            "grid_row": null,
            "max_height": null,
            "align_content": null,
            "visibility": null,
            "align_self": null,
            "height": null,
            "min_height": null,
            "padding": null,
            "grid_auto_rows": null,
            "grid_gap": null,
            "max_width": null,
            "order": null,
            "_view_module_version": "1.2.0",
            "grid_template_areas": null,
            "object_position": null,
            "object_fit": null,
            "grid_auto_columns": null,
            "margin": null,
            "display": null,
            "left": null
          }
        },
        "ff23e0c693324241b26c1b91513220f7": {
          "model_module": "@jupyter-widgets/controls",
          "model_name": "HTMLModel",
          "model_module_version": "1.5.0",
          "state": {
            "_view_name": "HTMLView",
            "style": "IPY_MODEL_8d2ded6fa4774aceae8ecf99ba4040c9",
            "_dom_classes": [],
            "description": "",
            "_model_name": "HTMLModel",
            "placeholder": "​",
            "_view_module": "@jupyter-widgets/controls",
            "_model_module_version": "1.5.0",
            "value": "100%",
            "_view_count": null,
            "_view_module_version": "1.5.0",
            "description_tooltip": null,
            "_model_module": "@jupyter-widgets/controls",
            "layout": "IPY_MODEL_c2c3dbdf8124442cb8cf5838fdff5781"
          }
        },
        "3aa2596061ac4f55bc849c2268e251a4": {
          "model_module": "@jupyter-widgets/controls",
          "model_name": "FloatProgressModel",
          "model_module_version": "1.5.0",
          "state": {
            "_view_name": "ProgressView",
            "style": "IPY_MODEL_42c83a71c8704285ad37283284109672",
            "_dom_classes": [],
            "description": "",
            "_model_name": "FloatProgressModel",
            "bar_style": "success",
            "max": 20,
            "_view_module": "@jupyter-widgets/controls",
            "_model_module_version": "1.5.0",
            "value": 20,
            "_view_count": null,
            "_view_module_version": "1.5.0",
            "orientation": "horizontal",
            "min": 0,
            "description_tooltip": null,
            "_model_module": "@jupyter-widgets/controls",
            "layout": "IPY_MODEL_1564c57e35c746deaa74a023437c2537"
          }
        },
        "f8a947e0aa7a4410a746e697106ac0ad": {
          "model_module": "@jupyter-widgets/controls",
          "model_name": "HTMLModel",
          "model_module_version": "1.5.0",
          "state": {
            "_view_name": "HTMLView",
            "style": "IPY_MODEL_9274bc93875f4bf9b976e674d877592e",
            "_dom_classes": [],
            "description": "",
            "_model_name": "HTMLModel",
            "placeholder": "​",
            "_view_module": "@jupyter-widgets/controls",
            "_model_module_version": "1.5.0",
            "value": " 20/20 [49:15&lt;00:00, 148.20s/it]",
            "_view_count": null,
            "_view_module_version": "1.5.0",
            "description_tooltip": null,
            "_model_module": "@jupyter-widgets/controls",
            "layout": "IPY_MODEL_8488801ec5274f2a86e54c41ac305d65"
          }
        },
        "8d2ded6fa4774aceae8ecf99ba4040c9": {
          "model_module": "@jupyter-widgets/controls",
          "model_name": "DescriptionStyleModel",
          "model_module_version": "1.5.0",
          "state": {
            "_view_name": "StyleView",
            "_model_name": "DescriptionStyleModel",
            "description_width": "",
            "_view_module": "@jupyter-widgets/base",
            "_model_module_version": "1.5.0",
            "_view_count": null,
            "_view_module_version": "1.2.0",
            "_model_module": "@jupyter-widgets/controls"
          }
        },
        "c2c3dbdf8124442cb8cf5838fdff5781": {
          "model_module": "@jupyter-widgets/base",
          "model_name": "LayoutModel",
          "model_module_version": "1.2.0",
          "state": {
            "_view_name": "LayoutView",
            "grid_template_rows": null,
            "right": null,
            "justify_content": null,
            "_view_module": "@jupyter-widgets/base",
            "overflow": null,
            "_model_module_version": "1.2.0",
            "_view_count": null,
            "flex_flow": null,
            "width": null,
            "min_width": null,
            "border": null,
            "align_items": null,
            "bottom": null,
            "_model_module": "@jupyter-widgets/base",
            "top": null,
            "grid_column": null,
            "overflow_y": null,
            "overflow_x": null,
            "grid_auto_flow": null,
            "grid_area": null,
            "grid_template_columns": null,
            "flex": null,
            "_model_name": "LayoutModel",
            "justify_items": null,
            "grid_row": null,
            "max_height": null,
            "align_content": null,
            "visibility": null,
            "align_self": null,
            "height": null,
            "min_height": null,
            "padding": null,
            "grid_auto_rows": null,
            "grid_gap": null,
            "max_width": null,
            "order": null,
            "_view_module_version": "1.2.0",
            "grid_template_areas": null,
            "object_position": null,
            "object_fit": null,
            "grid_auto_columns": null,
            "margin": null,
            "display": null,
            "left": null
          }
        },
        "42c83a71c8704285ad37283284109672": {
          "model_module": "@jupyter-widgets/controls",
          "model_name": "ProgressStyleModel",
          "model_module_version": "1.5.0",
          "state": {
            "_view_name": "StyleView",
            "_model_name": "ProgressStyleModel",
            "description_width": "",
            "_view_module": "@jupyter-widgets/base",
            "_model_module_version": "1.5.0",
            "_view_count": null,
            "_view_module_version": "1.2.0",
            "bar_color": null,
            "_model_module": "@jupyter-widgets/controls"
          }
        },
        "1564c57e35c746deaa74a023437c2537": {
          "model_module": "@jupyter-widgets/base",
          "model_name": "LayoutModel",
          "model_module_version": "1.2.0",
          "state": {
            "_view_name": "LayoutView",
            "grid_template_rows": null,
            "right": null,
            "justify_content": null,
            "_view_module": "@jupyter-widgets/base",
            "overflow": null,
            "_model_module_version": "1.2.0",
            "_view_count": null,
            "flex_flow": null,
            "width": null,
            "min_width": null,
            "border": null,
            "align_items": null,
            "bottom": null,
            "_model_module": "@jupyter-widgets/base",
            "top": null,
            "grid_column": null,
            "overflow_y": null,
            "overflow_x": null,
            "grid_auto_flow": null,
            "grid_area": null,
            "grid_template_columns": null,
            "flex": null,
            "_model_name": "LayoutModel",
            "justify_items": null,
            "grid_row": null,
            "max_height": null,
            "align_content": null,
            "visibility": null,
            "align_self": null,
            "height": null,
            "min_height": null,
            "padding": null,
            "grid_auto_rows": null,
            "grid_gap": null,
            "max_width": null,
            "order": null,
            "_view_module_version": "1.2.0",
            "grid_template_areas": null,
            "object_position": null,
            "object_fit": null,
            "grid_auto_columns": null,
            "margin": null,
            "display": null,
            "left": null
          }
        },
        "9274bc93875f4bf9b976e674d877592e": {
          "model_module": "@jupyter-widgets/controls",
          "model_name": "DescriptionStyleModel",
          "model_module_version": "1.5.0",
          "state": {
            "_view_name": "StyleView",
            "_model_name": "DescriptionStyleModel",
            "description_width": "",
            "_view_module": "@jupyter-widgets/base",
            "_model_module_version": "1.5.0",
            "_view_count": null,
            "_view_module_version": "1.2.0",
            "_model_module": "@jupyter-widgets/controls"
          }
        },
        "8488801ec5274f2a86e54c41ac305d65": {
          "model_module": "@jupyter-widgets/base",
          "model_name": "LayoutModel",
          "model_module_version": "1.2.0",
          "state": {
            "_view_name": "LayoutView",
            "grid_template_rows": null,
            "right": null,
            "justify_content": null,
            "_view_module": "@jupyter-widgets/base",
            "overflow": null,
            "_model_module_version": "1.2.0",
            "_view_count": null,
            "flex_flow": null,
            "width": null,
            "min_width": null,
            "border": null,
            "align_items": null,
            "bottom": null,
            "_model_module": "@jupyter-widgets/base",
            "top": null,
            "grid_column": null,
            "overflow_y": null,
            "overflow_x": null,
            "grid_auto_flow": null,
            "grid_area": null,
            "grid_template_columns": null,
            "flex": null,
            "_model_name": "LayoutModel",
            "justify_items": null,
            "grid_row": null,
            "max_height": null,
            "align_content": null,
            "visibility": null,
            "align_self": null,
            "height": null,
            "min_height": null,
            "padding": null,
            "grid_auto_rows": null,
            "grid_gap": null,
            "max_width": null,
            "order": null,
            "_view_module_version": "1.2.0",
            "grid_template_areas": null,
            "object_position": null,
            "object_fit": null,
            "grid_auto_columns": null,
            "margin": null,
            "display": null,
            "left": null
          }
        },
        "dbe60b3b44ed4e3896dc2e8f272205fc": {
          "model_module": "@jupyter-widgets/controls",
          "model_name": "HBoxModel",
          "model_module_version": "1.5.0",
          "state": {
            "_view_name": "HBoxView",
            "_dom_classes": [],
            "_model_name": "HBoxModel",
            "_view_module": "@jupyter-widgets/controls",
            "_model_module_version": "1.5.0",
            "_view_count": null,
            "_view_module_version": "1.5.0",
            "box_style": "",
            "layout": "IPY_MODEL_2bfd19a505d9416b89a6add348dd3101",
            "_model_module": "@jupyter-widgets/controls",
            "children": [
              "IPY_MODEL_9fa066a3541e420b8b56d4a7448827dd",
              "IPY_MODEL_7e3d5dea0e204c06b539c8630593ebd9",
              "IPY_MODEL_b5d74ffda8894695a8880f26db2b69c0"
            ]
          }
        },
        "2bfd19a505d9416b89a6add348dd3101": {
          "model_module": "@jupyter-widgets/base",
          "model_name": "LayoutModel",
          "model_module_version": "1.2.0",
          "state": {
            "_view_name": "LayoutView",
            "grid_template_rows": null,
            "right": null,
            "justify_content": null,
            "_view_module": "@jupyter-widgets/base",
            "overflow": null,
            "_model_module_version": "1.2.0",
            "_view_count": null,
            "flex_flow": null,
            "width": null,
            "min_width": null,
            "border": null,
            "align_items": null,
            "bottom": null,
            "_model_module": "@jupyter-widgets/base",
            "top": null,
            "grid_column": null,
            "overflow_y": null,
            "overflow_x": null,
            "grid_auto_flow": null,
            "grid_area": null,
            "grid_template_columns": null,
            "flex": null,
            "_model_name": "LayoutModel",
            "justify_items": null,
            "grid_row": null,
            "max_height": null,
            "align_content": null,
            "visibility": null,
            "align_self": null,
            "height": null,
            "min_height": null,
            "padding": null,
            "grid_auto_rows": null,
            "grid_gap": null,
            "max_width": null,
            "order": null,
            "_view_module_version": "1.2.0",
            "grid_template_areas": null,
            "object_position": null,
            "object_fit": null,
            "grid_auto_columns": null,
            "margin": null,
            "display": null,
            "left": null
          }
        },
        "9fa066a3541e420b8b56d4a7448827dd": {
          "model_module": "@jupyter-widgets/controls",
          "model_name": "HTMLModel",
          "model_module_version": "1.5.0",
          "state": {
            "_view_name": "HTMLView",
            "style": "IPY_MODEL_923e7896f6674dadbba9d3eb4c27112e",
            "_dom_classes": [],
            "description": "",
            "_model_name": "HTMLModel",
            "placeholder": "​",
            "_view_module": "@jupyter-widgets/controls",
            "_model_module_version": "1.5.0",
            "value": "100%",
            "_view_count": null,
            "_view_module_version": "1.5.0",
            "description_tooltip": null,
            "_model_module": "@jupyter-widgets/controls",
            "layout": "IPY_MODEL_64d88c1e4b9a44ed9b5485fe49f90cac"
          }
        },
        "7e3d5dea0e204c06b539c8630593ebd9": {
          "model_module": "@jupyter-widgets/controls",
          "model_name": "FloatProgressModel",
          "model_module_version": "1.5.0",
          "state": {
            "_view_name": "ProgressView",
            "style": "IPY_MODEL_8f179754b88e4bb3a61f8a19750e9f15",
            "_dom_classes": [],
            "description": "",
            "_model_name": "FloatProgressModel",
            "bar_style": "success",
            "max": 20,
            "_view_module": "@jupyter-widgets/controls",
            "_model_module_version": "1.5.0",
            "value": 20,
            "_view_count": null,
            "_view_module_version": "1.5.0",
            "orientation": "horizontal",
            "min": 0,
            "description_tooltip": null,
            "_model_module": "@jupyter-widgets/controls",
            "layout": "IPY_MODEL_76544e5b19b641f2937b6cdc1ce19981"
          }
        },
        "b5d74ffda8894695a8880f26db2b69c0": {
          "model_module": "@jupyter-widgets/controls",
          "model_name": "HTMLModel",
          "model_module_version": "1.5.0",
          "state": {
            "_view_name": "HTMLView",
            "style": "IPY_MODEL_27309d2cca104a86b1afb014c8312de8",
            "_dom_classes": [],
            "description": "",
            "_model_name": "HTMLModel",
            "placeholder": "​",
            "_view_module": "@jupyter-widgets/controls",
            "_model_module_version": "1.5.0",
            "value": " 20/20 [04:32&lt;00:00, 13.23s/it]",
            "_view_count": null,
            "_view_module_version": "1.5.0",
            "description_tooltip": null,
            "_model_module": "@jupyter-widgets/controls",
            "layout": "IPY_MODEL_43e49a594af6435e8b553207ebcacf15"
          }
        },
        "923e7896f6674dadbba9d3eb4c27112e": {
          "model_module": "@jupyter-widgets/controls",
          "model_name": "DescriptionStyleModel",
          "model_module_version": "1.5.0",
          "state": {
            "_view_name": "StyleView",
            "_model_name": "DescriptionStyleModel",
            "description_width": "",
            "_view_module": "@jupyter-widgets/base",
            "_model_module_version": "1.5.0",
            "_view_count": null,
            "_view_module_version": "1.2.0",
            "_model_module": "@jupyter-widgets/controls"
          }
        },
        "64d88c1e4b9a44ed9b5485fe49f90cac": {
          "model_module": "@jupyter-widgets/base",
          "model_name": "LayoutModel",
          "model_module_version": "1.2.0",
          "state": {
            "_view_name": "LayoutView",
            "grid_template_rows": null,
            "right": null,
            "justify_content": null,
            "_view_module": "@jupyter-widgets/base",
            "overflow": null,
            "_model_module_version": "1.2.0",
            "_view_count": null,
            "flex_flow": null,
            "width": null,
            "min_width": null,
            "border": null,
            "align_items": null,
            "bottom": null,
            "_model_module": "@jupyter-widgets/base",
            "top": null,
            "grid_column": null,
            "overflow_y": null,
            "overflow_x": null,
            "grid_auto_flow": null,
            "grid_area": null,
            "grid_template_columns": null,
            "flex": null,
            "_model_name": "LayoutModel",
            "justify_items": null,
            "grid_row": null,
            "max_height": null,
            "align_content": null,
            "visibility": null,
            "align_self": null,
            "height": null,
            "min_height": null,
            "padding": null,
            "grid_auto_rows": null,
            "grid_gap": null,
            "max_width": null,
            "order": null,
            "_view_module_version": "1.2.0",
            "grid_template_areas": null,
            "object_position": null,
            "object_fit": null,
            "grid_auto_columns": null,
            "margin": null,
            "display": null,
            "left": null
          }
        },
        "8f179754b88e4bb3a61f8a19750e9f15": {
          "model_module": "@jupyter-widgets/controls",
          "model_name": "ProgressStyleModel",
          "model_module_version": "1.5.0",
          "state": {
            "_view_name": "StyleView",
            "_model_name": "ProgressStyleModel",
            "description_width": "",
            "_view_module": "@jupyter-widgets/base",
            "_model_module_version": "1.5.0",
            "_view_count": null,
            "_view_module_version": "1.2.0",
            "bar_color": null,
            "_model_module": "@jupyter-widgets/controls"
          }
        },
        "76544e5b19b641f2937b6cdc1ce19981": {
          "model_module": "@jupyter-widgets/base",
          "model_name": "LayoutModel",
          "model_module_version": "1.2.0",
          "state": {
            "_view_name": "LayoutView",
            "grid_template_rows": null,
            "right": null,
            "justify_content": null,
            "_view_module": "@jupyter-widgets/base",
            "overflow": null,
            "_model_module_version": "1.2.0",
            "_view_count": null,
            "flex_flow": null,
            "width": null,
            "min_width": null,
            "border": null,
            "align_items": null,
            "bottom": null,
            "_model_module": "@jupyter-widgets/base",
            "top": null,
            "grid_column": null,
            "overflow_y": null,
            "overflow_x": null,
            "grid_auto_flow": null,
            "grid_area": null,
            "grid_template_columns": null,
            "flex": null,
            "_model_name": "LayoutModel",
            "justify_items": null,
            "grid_row": null,
            "max_height": null,
            "align_content": null,
            "visibility": null,
            "align_self": null,
            "height": null,
            "min_height": null,
            "padding": null,
            "grid_auto_rows": null,
            "grid_gap": null,
            "max_width": null,
            "order": null,
            "_view_module_version": "1.2.0",
            "grid_template_areas": null,
            "object_position": null,
            "object_fit": null,
            "grid_auto_columns": null,
            "margin": null,
            "display": null,
            "left": null
          }
        },
        "27309d2cca104a86b1afb014c8312de8": {
          "model_module": "@jupyter-widgets/controls",
          "model_name": "DescriptionStyleModel",
          "model_module_version": "1.5.0",
          "state": {
            "_view_name": "StyleView",
            "_model_name": "DescriptionStyleModel",
            "description_width": "",
            "_view_module": "@jupyter-widgets/base",
            "_model_module_version": "1.5.0",
            "_view_count": null,
            "_view_module_version": "1.2.0",
            "_model_module": "@jupyter-widgets/controls"
          }
        },
        "43e49a594af6435e8b553207ebcacf15": {
          "model_module": "@jupyter-widgets/base",
          "model_name": "LayoutModel",
          "model_module_version": "1.2.0",
          "state": {
            "_view_name": "LayoutView",
            "grid_template_rows": null,
            "right": null,
            "justify_content": null,
            "_view_module": "@jupyter-widgets/base",
            "overflow": null,
            "_model_module_version": "1.2.0",
            "_view_count": null,
            "flex_flow": null,
            "width": null,
            "min_width": null,
            "border": null,
            "align_items": null,
            "bottom": null,
            "_model_module": "@jupyter-widgets/base",
            "top": null,
            "grid_column": null,
            "overflow_y": null,
            "overflow_x": null,
            "grid_auto_flow": null,
            "grid_area": null,
            "grid_template_columns": null,
            "flex": null,
            "_model_name": "LayoutModel",
            "justify_items": null,
            "grid_row": null,
            "max_height": null,
            "align_content": null,
            "visibility": null,
            "align_self": null,
            "height": null,
            "min_height": null,
            "padding": null,
            "grid_auto_rows": null,
            "grid_gap": null,
            "max_width": null,
            "order": null,
            "_view_module_version": "1.2.0",
            "grid_template_areas": null,
            "object_position": null,
            "object_fit": null,
            "grid_auto_columns": null,
            "margin": null,
            "display": null,
            "left": null
          }
        }
      }
    }
  },
  "cells": [
    {
      "cell_type": "markdown",
      "metadata": {
        "id": "view-in-github",
        "colab_type": "text"
      },
      "source": [
        "<a href=\"https://colab.research.google.com/github/GrigoryBartosh/dul_2021/blob/main/Practice/pr14/Practice14_meta.ipynb\" target=\"_parent\"><img src=\"https://colab.research.google.com/assets/colab-badge.svg\" alt=\"Open In Colab\"/></a>"
      ]
    },
    {
      "cell_type": "code",
      "execution_count": null,
      "metadata": {
        "id": "LANVPeDkZ2BF"
      },
      "outputs": [],
      "source": [
        "import os\n",
        "import math\n",
        "import numpy as np \n",
        "import time\n",
        "import pickle\n",
        "\n",
        "\n",
        "from sklearn.metrics import roc_auc_score as auc\n",
        "from sklearn.metrics import accuracy_score as acc\n",
        "from sklearn.metrics.pairwise import cosine_similarity\n",
        "from sklearn.datasets import make_moons\n",
        "\n",
        "\n",
        "from scipy.stats import norm\n",
        "import matplotlib.pyplot as plt\n",
        "%matplotlib inline \n",
        "\n",
        "from tqdm.notebook import tqdm, trange\n",
        "\n",
        "import os\n",
        "import numpy as np\n",
        "import random\n",
        "import json\n",
        "from PIL import Image\n",
        "from collections import defaultdict\n",
        "from statistics import mean, stdev\n",
        "from copy import deepcopy"
      ]
    },
    {
      "cell_type": "code",
      "source": [
        "import torch\n",
        "import torch.nn as nn\n",
        "import torch.nn.functional as F\n",
        "import torch.utils.data as data\n",
        "import torch.optim as opt\n",
        "from torch.utils.data.sampler import Sampler"
      ],
      "metadata": {
        "id": "BCr_54tQfu9X"
      },
      "execution_count": null,
      "outputs": []
    },
    {
      "cell_type": "code",
      "source": [
        "from torch.utils.data import DataLoader\n",
        "import torchvision\n",
        "from torchvision import transforms\n",
        "from torchvision.datasets import MNIST, FashionMNIST, CIFAR10, SVHN\n",
        "from torchvision.utils import make_grid"
      ],
      "metadata": {
        "id": "a7-7HNvjINCh"
      },
      "execution_count": null,
      "outputs": []
    },
    {
      "cell_type": "code",
      "source": [
        "from PIL import Image"
      ],
      "metadata": {
        "id": "jftvzsRh25R_"
      },
      "execution_count": null,
      "outputs": []
    },
    {
      "cell_type": "code",
      "source": [
        "device = torch.device(\"cuda\" if torch.cuda.is_available() else \"cpu\")\n",
        "device"
      ],
      "metadata": {
        "id": "IJemRIu_ITAH",
        "colab": {
          "base_uri": "https://localhost:8080/"
        },
        "outputId": "02758e99-9409-4979-b2ff-bf41cbfdf4e5"
      },
      "execution_count": null,
      "outputs": [
        {
          "output_type": "execute_result",
          "data": {
            "text/plain": [
              "device(type='cpu')"
            ]
          },
          "metadata": {},
          "execution_count": 5
        }
      ]
    },
    {
      "cell_type": "code",
      "source": [
        "import argparse\n",
        "import time\n",
        "import typing\n",
        "\n",
        "import pandas as pd\n",
        "import numpy as np\n",
        "import matplotlib as mpl\n",
        "import matplotlib.pyplot as plt\n",
        "\n",
        "import torch\n",
        "from torch import nn\n",
        "import torch.nn.functional as F\n",
        "import torch.optim as optim"
      ],
      "metadata": {
        "id": "lNfOIjlKf6v9"
      },
      "execution_count": null,
      "outputs": []
    },
    {
      "cell_type": "code",
      "source": [
        "!pip install higher"
      ],
      "metadata": {
        "colab": {
          "base_uri": "https://localhost:8080/"
        },
        "id": "Kb6_0bTnhTAr",
        "outputId": "eb1f9727-951a-4cde-a1a3-83535b0e2522"
      },
      "execution_count": null,
      "outputs": [
        {
          "output_type": "stream",
          "name": "stdout",
          "text": [
            "Collecting higher\n",
            "  Downloading higher-0.2.1-py3-none-any.whl (27 kB)\n",
            "Requirement already satisfied: torch in /usr/local/lib/python3.7/dist-packages (from higher) (1.10.0+cu111)\n",
            "Requirement already satisfied: typing-extensions in /usr/local/lib/python3.7/dist-packages (from torch->higher) (3.10.0.2)\n",
            "Installing collected packages: higher\n",
            "Successfully installed higher-0.2.1\n"
          ]
        }
      ]
    },
    {
      "cell_type": "code",
      "source": [
        "import higher"
      ],
      "metadata": {
        "id": "ScsP8Gq0h_0G"
      },
      "execution_count": null,
      "outputs": []
    },
    {
      "cell_type": "code",
      "source": [
        ""
      ],
      "metadata": {
        "id": "jTdVfG7-iDsm"
      },
      "execution_count": null,
      "outputs": []
    },
    {
      "cell_type": "code",
      "source": [
        ""
      ],
      "metadata": {
        "id": "H6n9qFLAcvOk"
      },
      "execution_count": null,
      "outputs": []
    },
    {
      "cell_type": "markdown",
      "metadata": {
        "id": "bj6g7x0eWf71"
      },
      "source": [
        "##  [MAML](http://proceedings.mlr.press/v70/finn17a.html)(Model-Agnostic Meta-Learning)\n",
        "\n",
        "MAML is an optimization-based meta-learning algorithm, which means that it tries to adjust the standard optimization procedure to a few-shot setting. The idea of MAML is relatively simple: given a model, support, and query set during training, we optimize the model for $m$ steps on the support set and evaluate the gradients of the query loss with respect to the original model's parameters. For the same model, we do it for a few different support-query sets and accumulate the gradients. This results in learning a model that provides a good initialization for being quickly adapted to the training tasks. If we denote the model parameters with $\\theta$, we can visualize the procedure as follows \n",
        "\n",
        "<center width=\"100%\"><img src=\"https://github.com/phlippe/uvadlc_notebooks/blob/master/docs/tutorial_notebooks/tutorial16/MAML_figure.svg?raw=1\" width=\"300px\"></center>\n",
        "\n",
        "The full algorithm of MAML is therefore as follows. At each training step, we sample a batch of tasks, i.e., a batch of support-query set pairs. For each task $\\mathcal{T}_i$, we optimize a model $f_{\\theta}$ on the support set via SGD, and denote this model as $f_{\\theta_i'}$. We refer to this optimization as _inner loop_. Using this new model, we calculate the gradients of the original parameters, $\\theta$, with respect to the query loss on $f_{\\theta_i'}$. These gradients are accumulated over all tasks and used to update $\\theta$. This is called _outer loop_ since we iterate over tasks. The full MAML algorithm is summarized below\n",
        "\n",
        "<center width=\"100%\"><img src=\"https://github.com/phlippe/uvadlc_notebooks/blob/master/docs/tutorial_notebooks/tutorial16/MAML_algorithm.svg?raw=1\" width=\"400px\"></center>\n",
        "\n",
        "To obtain gradients for the initial parameters $\\theta$ from the optimized model $f_{\\theta_i'}$, we actually need second-order gradients, i.e. gradients of gradients, as the support set gradients depend on $\\theta$ as well. This makes MAML computationally expensive, especially when using multiple inner loop steps."
      ]
    },
    {
      "cell_type": "markdown",
      "source": [
        "# data"
      ],
      "metadata": {
        "id": "X8kEPq95isEL"
      }
    },
    {
      "cell_type": "code",
      "source": [
        "train_set = MNIST(root='./', train=True, download=True, transform=transforms.ToTensor())\n",
        "test_set = MNIST(root='./', train=False, download=True, transform=transforms.ToTensor())"
      ],
      "metadata": {
        "id": "m9iaS0p8isrB"
      },
      "execution_count": null,
      "outputs": []
    },
    {
      "cell_type": "code",
      "source": [
        "# Merging original training and test set\n",
        "all_images = np.concatenate([train_set.data, test_set.data], axis=0)\n",
        "all_targets = np.concatenate([train_set.targets, test_set.targets], axis=0)"
      ],
      "metadata": {
        "id": "VaSMkM0CjBat"
      },
      "execution_count": null,
      "outputs": []
    },
    {
      "cell_type": "code",
      "source": [
        "class ImageDataset(data.Dataset):\n",
        "    def __init__(self, imgs, targets, img_transform=None):\n",
        "        super().__init__()\n",
        "        self.img_transform = img_transform\n",
        "        self.imgs = imgs\n",
        "        self.targets = targets\n",
        "\n",
        "    def __getitem__(self, i):\n",
        "        img, target = self.imgs[i], self.targets[i]\n",
        "        img = Image.fromarray(img)\n",
        "\n",
        "        if self.img_transform is not None:\n",
        "            img = self.img_transform(img)\n",
        "\n",
        "        return img, target\n",
        "\n",
        "    def __len__(self):\n",
        "        return self.imgs.shape[0]"
      ],
      "metadata": {
        "id": "1Hc6KxuejU4O"
      },
      "execution_count": null,
      "outputs": []
    },
    {
      "cell_type": "code",
      "source": [
        "train_classes, test_classes = torch.arange(8), torch.arange(8, 10)"
      ],
      "metadata": {
        "id": "lKbcDNWvjU1d"
      },
      "execution_count": null,
      "outputs": []
    },
    {
      "cell_type": "code",
      "source": [
        "def dataset_from_labels(imgs, targets, class_set, transform=None):\n",
        "    targets = torch.Tensor(targets)\n",
        "    class_mask = (targets[:,None] == class_set[None,:]).any(dim=-1)\n",
        "    return ImageDataset(imgs=imgs[class_mask],\n",
        "                        targets=targets[class_mask], \n",
        "                        img_transform=transform)"
      ],
      "metadata": {
        "id": "c0NH5-x40l9c"
      },
      "execution_count": null,
      "outputs": []
    },
    {
      "cell_type": "code",
      "source": [
        "transform = transforms.Compose([transforms.ToTensor(),\n",
        "                                transforms.Normalize(0.5, 0.5)])\n",
        "\n",
        "train_set = dataset_from_labels(all_images, all_targets, train_classes, img_transform=transform)\n",
        "test_set = dataset_from_labels(all_images, all_targets, test_classes, img_transform=transform)"
      ],
      "metadata": {
        "id": "Bx6mEU2C1X-2"
      },
      "execution_count": null,
      "outputs": []
    },
    {
      "cell_type": "code",
      "source": [
        "class FewShotBatchSampler(object):\n",
        "\n",
        "    def __init__(self, dataset_targets, N_way, K_shot, include_query=True, shuffle=True):\n",
        "        \"\"\"\n",
        "        Inputs:\n",
        "            dataset_targets - PyTorch tensor of the labels of the data elements.\n",
        "            N_way - Number of classes to sample per batch.\n",
        "            K_shot - Number of examples to sample per class in the batch.\n",
        "            include_query - If True, returns batch of size N_way*K_shot*2\n",
        "        \"\"\"\n",
        "        super().__init__()\n",
        "        self.dataset_targets = dataset_targets\n",
        "        self.N_way = N_way\n",
        "        self.K_shot = K_shot\n",
        "        self.shuffle = shuffle\n",
        "        self.include_query = include_query\n",
        "        if self.include_query:\n",
        "            self.K_shot *= 2\n",
        "        self.batch_size = self.N_way * self.K_shot \n",
        "\n",
        "        # Organize examples by class\n",
        "        self.classes = torch.unique(self.dataset_targets).tolist()\n",
        "        self.num_classes = len(self.classes)\n",
        "        self.indices_per_class = {}\n",
        "        self.batches_per_class = {} \n",
        "        for c in self.classes:\n",
        "            self.indices_per_class[c] = torch.where(self.dataset_targets == c)[0]\n",
        "            self.batches_per_class[c] = len(self.indices_per_class[c]) // self.K_shot\n",
        "\n",
        "        # Create a list of classes from which we select the N classes per batch\n",
        "        self.iterations = sum(self.batches_per_class.values()) // self.N_way\n",
        "        self.class_list = [c for c in self.classes for _ in range(self.batches_per_class[c])]\n",
        "        if self.shuffle:\n",
        "            self.shuffle_data()\n",
        "        else:\n",
        "            self.class_list = self.classes * min(self.batches_per_class.values())\n",
        "\n",
        "    def shuffle_data(self):\n",
        "        for c in self.classes:\n",
        "            perm = torch.randperm(self.indices_per_class[c].shape[0])\n",
        "            self.indices_per_class[c] = self.indices_per_class[c][perm]\n",
        "        random.shuffle(self.class_list)\n",
        "\n",
        "    def __iter__(self):\n",
        "        if self.shuffle:\n",
        "            self.shuffle_data()\n",
        "\n",
        "        start_index = defaultdict(int)\n",
        "        for it in range(self.iterations):\n",
        "            class_batch = self.class_list[it*self.N_way:(it+1)*self.N_way]  # Select N classes for the batch\n",
        "            index_batch = []\n",
        "            for c in class_batch:  # For each class, select the next K examples and add them to the batch\n",
        "                index_batch.extend(self.indices_per_class[c][start_index[c]:start_index[c]+self.K_shot])\n",
        "                start_index[c] += self.K_shot\n",
        "            if self.include_query:\n",
        "                index_batch = index_batch[::2] + index_batch[1::2]\n",
        "            yield index_batch\n",
        "\n",
        "    def __len__(self):\n",
        "        return self.iterations"
      ],
      "metadata": {
        "id": "NEvswzy13AZ5"
      },
      "execution_count": null,
      "outputs": []
    },
    {
      "cell_type": "code",
      "source": [
        "batch_size = 8\n",
        "N_WAY = 2\n",
        "K_SHOT = 4\n",
        "train_data_loader = data.DataLoader(train_set,\n",
        "                                    batch_sampler=FewShotBatchSampler(train_set.targets,\n",
        "                                                                      include_query=True,\n",
        "                                                                      N_way=batch_size * N_WAY,\n",
        "                                                                      K_shot=K_SHOT,\n",
        "                                                                      shuffle=True))"
      ],
      "metadata": {
        "id": "jAhSs5KY3Di8"
      },
      "execution_count": null,
      "outputs": []
    },
    {
      "cell_type": "code",
      "source": [
        "test_data_loader = data.DataLoader(test_set,\n",
        "                                   batch_sampler=FewShotBatchSampler(test_set.targets,\n",
        "                                                                      include_query=False,\n",
        "                                                                      N_way=2,\n",
        "                                                                      K_shot=K_SHOT,\n",
        "                                                                      shuffle=False))"
      ],
      "metadata": {
        "id": "EWv-8QF7ZME_"
      },
      "execution_count": null,
      "outputs": []
    },
    {
      "cell_type": "code",
      "source": [
        "def split_batch(imgs, targets):\n",
        "    support_imgs, query_imgs = imgs.chunk(2, dim=0)\n",
        "    support_targets, query_targets = targets.chunk(2, dim=0)\n",
        "    return support_imgs, query_imgs, support_targets, query_targets"
      ],
      "metadata": {
        "id": "sSO2Sb2i3EOo"
      },
      "execution_count": null,
      "outputs": []
    },
    {
      "cell_type": "code",
      "source": [
        "imgs, targets = next(iter(train_data_loader))\n",
        "support_imgs, query_imgs, _, _ = split_batch(imgs, targets)\n",
        "support_grid = torchvision.utils.make_grid(support_imgs, nrow=K_SHOT, normalize=True, pad_value=0.9)\n",
        "support_grid = support_grid.permute(1, 2, 0)\n",
        "query_grid = torchvision.utils.make_grid(query_imgs, nrow=K_SHOT, normalize=True, pad_value=0.9)\n",
        "query_grid = query_grid.permute(1, 2, 0)\n",
        "\n",
        "fig, ax = plt.subplots(1, 2, figsize=(8, 5))\n",
        "ax[0].imshow(support_grid)\n",
        "ax[0].set_title(\"Support set\")\n",
        "ax[0].axis('off')\n",
        "ax[1].imshow(query_grid)\n",
        "ax[1].set_title(\"Query set\")\n",
        "ax[1].axis('off')\n",
        "plt.suptitle(\"Few Shot Batch\", weight='bold')\n",
        "plt.show()\n",
        "plt.close()"
      ],
      "metadata": {
        "colab": {
          "base_uri": "https://localhost:8080/",
          "height": 304
        },
        "id": "1F0ldtVM3Jiv",
        "outputId": "57b8cd0d-b93d-4532-d7fc-916d73f205ff"
      },
      "execution_count": null,
      "outputs": [
        {
          "output_type": "display_data",
          "data": {
            "image/png": "[encoded data removed]",
            "text/plain": [
              "<Figure size 576x360 with 2 Axes>"
            ]
          },
          "metadata": {
            "needs_background": "light"
          }
        }
      ]
    },
    {
      "cell_type": "markdown",
      "source": [
        "# model"
      ],
      "metadata": {
        "id": "kqMshuwnxqxa"
      }
    },
    {
      "cell_type": "code",
      "source": [
        "class MamlNet(nn.Module):\n",
        "    def __init__(self):\n",
        "        super().__init__()\n",
        "        self.net = nn.Sequential(\n",
        "                                nn.Conv2d(1, 64, 3),\n",
        "                                nn.BatchNorm2d(64, momentum=1, affine=True),\n",
        "                                nn.ReLU(inplace=True),\n",
        "                                nn.MaxPool2d(2, 2),\n",
        "                                nn.Conv2d(64, 64, 3),\n",
        "                                nn.BatchNorm2d(64, momentum=1, affine=True),\n",
        "                                nn.ReLU(inplace=True),\n",
        "                                nn.MaxPool2d(2, 2),\n",
        "                                nn.Conv2d(64, 64, 3),\n",
        "                                nn.BatchNorm2d(64, momentum=1, affine=True),\n",
        "                                nn.ReLU(inplace=True),\n",
        "                                nn.MaxPool2d(2, 2),\n",
        "                                nn.Flatten(),\n",
        "                                nn.Linear(64, 1)\n",
        "                                )\n",
        "    \n",
        "    def forward(self, x):\n",
        "        return self.net(x)\n",
        "    \n",
        "    def test(self, dataloader):\n",
        "        y_pred = []\n",
        "        y_true = []\n",
        "\n",
        "        for (x, y) in dataloader:\n",
        "            res = self.net(x.to(device).float())\n",
        "            y_pred.append(res.squeeze().detach().cpu().numpy())\n",
        "            y_true.append(y.squeeze().cpu().numpy())\n",
        "\n",
        "        y_pred = np.hstack(y_pred)\n",
        "        y_true = np.hstack(y_true)\n",
        "\n",
        "        return y_pred, y_true"
      ],
      "metadata": {
        "id": "uNOD53V4xqEv"
      },
      "execution_count": null,
      "outputs": []
    },
    {
      "cell_type": "code",
      "source": [
        "model = MamlNet().to(device)"
      ],
      "metadata": {
        "id": "FbOXRkEO1wPm"
      },
      "execution_count": null,
      "outputs": []
    },
    {
      "cell_type": "markdown",
      "source": [
        "# maml"
      ],
      "metadata": {
        "id": "I5RW6hAk1Y2d"
      }
    },
    {
      "cell_type": "code",
      "source": [
        "import higher"
      ],
      "metadata": {
        "id": "p__gLcgqaXER"
      },
      "execution_count": null,
      "outputs": []
    },
    {
      "cell_type": "code",
      "source": [
        "def train(data_loader, net, device, meta_opt, epoch):\n",
        "    net.train()\n",
        "\n",
        "    for (x, y) in data_loader:\n",
        "        start_time = time.time()\n",
        "        # Sample a batch of support and query images and labels.\n",
        "        x_spt, x_qry, y_spt, y_qry = split_batch(x, y)\n",
        "        \n",
        "\n",
        "        # reshape into batch of tasks\n",
        "        x_spt = x_spt.reshape(-1, 8, 1, 28, 28)\n",
        "        x_qry = x_qry.reshape(-1, 8, 1, 28, 28)\n",
        "        y_spt = y_spt.reshape(-1, 8)\n",
        "        y_qry = y_qry.reshape(-1, 8)\n",
        "\n",
        "        task_num, setsz, c_, h, w = x_spt.size()\n",
        "        querysz = x_qry.size(1)\n",
        "\n",
        "        # Initialize the inner optimizer to adapt the parameters to\n",
        "        # the support set.\n",
        "        n_inner_iter = 3\n",
        "        \n",
        "        inner_opt = torch.optim.SGD(net.parameters(), lr=1e-2)\n",
        "\n",
        "        meta_opt.zero_grad()\n",
        "        for i in range(task_num):\n",
        "            with higher.innerloop_ctx(net, inner_opt, copy_initial_weights=False) as (fnet, diffopt):\n",
        "                if len(torch.unique(y_spt[i])) == 1:\n",
        "                    continue\n",
        "                labels_spt = (y_spt[i] == y_spt[i][0]).float().view(-1, 1)\n",
        "                labels_qry = (y_qry[i] == y_spt[i][0]).float().view(-1, 1)\n",
        "\n",
        "                for _ in range(n_inner_iter):\n",
        "                    spt_logits = fnet(x_spt[i].to(device))\n",
        "\n",
        "                    spt_loss = F.binary_cross_entropy_with_logits(spt_logits, labels_spt.to(device))\n",
        "                    diffopt.step(spt_loss)\n",
        "\n",
        "               \n",
        "                qry_logits = fnet(x_qry[i].to(device))\n",
        "                qry_loss = F.binary_cross_entropy_with_logits(qry_logits, labels_qry.to(device))\n",
        "                \n",
        "                qry_loss.backward()\n",
        "\n",
        "        meta_opt.step()"
      ],
      "metadata": {
        "id": "5x28s2dni_QX"
      },
      "execution_count": null,
      "outputs": []
    },
    {
      "cell_type": "code",
      "source": [
        "meta_opt = optim.Adam(model.parameters(), lr=1e-3)\n",
        "\n",
        "for epoch in trange(20):\n",
        "    train(train_data_loader, model, device, meta_opt, epoch)"
      ],
      "metadata": {
        "id": "ouL215u2AXFn",
        "colab": {
          "base_uri": "https://localhost:8080/",
          "height": 49,
          "referenced_widgets": [
            "4208d10d54c746daaacf8e92e4ff2800",
            "85d8ac418e224da1be2b3e67e25ca74f",
            "ff23e0c693324241b26c1b91513220f7",
            "3aa2596061ac4f55bc849c2268e251a4",
            "f8a947e0aa7a4410a746e697106ac0ad",
            "8d2ded6fa4774aceae8ecf99ba4040c9",
            "c2c3dbdf8124442cb8cf5838fdff5781",
            "42c83a71c8704285ad37283284109672",
            "1564c57e35c746deaa74a023437c2537",
            "9274bc93875f4bf9b976e674d877592e",
            "8488801ec5274f2a86e54c41ac305d65"
          ]
        },
        "outputId": "8c261cb3-186a-44e3-c091-5272afc305ad"
      },
      "execution_count": null,
      "outputs": [
        {
          "output_type": "display_data",
          "data": {
            "application/vnd.jupyter.widget-view+json": {
              "model_id": "4208d10d54c746daaacf8e92e4ff2800",
              "version_minor": 0,
              "version_major": 2
            },
            "text/plain": [
              "  0%|          | 0/20 [00:00<?, ?it/s]"
            ]
          },
          "metadata": {}
        }
      ]
    },
    {
      "cell_type": "markdown",
      "source": [
        "# testing"
      ],
      "metadata": {
        "id": "gLhWOrXHsIGE"
      }
    },
    {
      "cell_type": "code",
      "source": [
        "def test(net, test_data_loader, test_data, n_inner_iter=10, samples=1):\n",
        "    accs = []\n",
        "    full_loader = data.DataLoader(test_data, batch_size=200, shuffle=False)\n",
        "    for i, (x, y) in enumerate(tqdm(test_data_loader)):\n",
        "        if i >= samples:\n",
        "            break\n",
        "        net_c = deepcopy(net)\n",
        "\n",
        "       \n",
        "        opt = torch.optim.SGD(net_c.parameters(), lr=1e-2)\n",
        "\n",
        "        \n",
        "\n",
        "        for j in range(n_inner_iter):\n",
        "        \n",
        "            logits = net_c(x.to(device)).squeeze()\n",
        "            if j == 0:\n",
        "                with torch.no_grad():\n",
        "                    score0 = logits[y == test_classes[0]].mean()\n",
        "                    score1 = logits[y == test_classes[1]].mean()\n",
        "                    pos = test_classes[0] if score0 > score1 else test_classes[0]\n",
        "                    labels = (y == pos).float()\n",
        "            loss = F.binary_cross_entropy_with_logits(logits, labels.to(device))\n",
        "\n",
        "            opt.zero_grad()\n",
        "            loss.backward()\n",
        "            opt.step()\n",
        "        \n",
        "        net_c.eval()\n",
        "        y_pred, y_true = net_c.test(full_loader)\n",
        "        y_true =  (y_true == pos.numpy()).astype(int)\n",
        "        accs.append(acc(y_true, y_pred > 0))\n",
        "    return accs"
      ],
      "metadata": {
        "id": "RuOMDC7lzcso"
      },
      "execution_count": null,
      "outputs": []
    },
    {
      "cell_type": "code",
      "source": [
        "res = test(model, test_data_loader, test_set, 10, 10)"
      ],
      "metadata": {
        "id": "vsVcDtUezcov"
      },
      "execution_count": null,
      "outputs": []
    },
    {
      "cell_type": "code",
      "source": [
        "f\"{np.mean(res):.4f}\""
      ],
      "metadata": {
        "colab": {
          "base_uri": "https://localhost:8080/",
          "height": 35
        },
        "id": "Uw2kUnmiKu2a",
        "outputId": "b012c639-d2cd-4979-dad2-06f6fb6db1fc"
      },
      "execution_count": null,
      "outputs": [
        {
          "output_type": "execute_result",
          "data": {
            "application/vnd.google.colaboratory.intrinsic+json": {
              "type": "string"
            },
            "text/plain": [
              "'0.8126'"
            ]
          },
          "metadata": {},
          "execution_count": 202
        }
      ]
    },
    {
      "cell_type": "markdown",
      "source": [
        "# baseline"
      ],
      "metadata": {
        "id": "1Gnkh1xtsJag"
      }
    },
    {
      "cell_type": "code",
      "source": [
        "class BaseNet(nn.Module):\n",
        "    def __init__(self):\n",
        "        super().__init__()\n",
        "        self.head = nn.Sequential(\n",
        "                                nn.Conv2d(1, 64, 3),\n",
        "                                nn.BatchNorm2d(64, momentum=1, affine=True),\n",
        "                                nn.ReLU(inplace=True),\n",
        "                                nn.MaxPool2d(2, 2),\n",
        "                                nn.Conv2d(64, 64, 3),\n",
        "                                nn.BatchNorm2d(64, momentum=1, affine=True),\n",
        "                                nn.ReLU(inplace=True),\n",
        "                                nn.MaxPool2d(2, 2),\n",
        "                                nn.Conv2d(64, 64, 3),\n",
        "                                nn.BatchNorm2d(64, momentum=1, affine=True),\n",
        "                                nn.ReLU(inplace=True),\n",
        "                                nn.MaxPool2d(2, 2),\n",
        "                                nn.Flatten()\n",
        "                                )\n",
        "        \n",
        "        self.tail = nn.Sequential(nn.Linear(64, 8))\n",
        "        \n",
        "        self.tail2 = nn.Sequential(nn.Linear(64, 1))\n",
        "\n",
        "        self.pretrained = True\n",
        "    \n",
        "    def forward(self, x):\n",
        "        x = self.head(x)\n",
        "        if self.pretrained:\n",
        "            return self.tail(x)\n",
        "        return self.tail2(x)\n",
        "\n",
        "\n",
        "    def pretrain(self, dataset, num_epochs=20):\n",
        "        data_loader = data.DataLoader(dataset,\n",
        "                                      batch_size=200,\n",
        "                                      shuffle=True)\n",
        "        \n",
        "        opt = optim.Adam(self.parameters(), lr=1e-3)\n",
        "\n",
        "        for epoch in trange(num_epochs):\n",
        "            for (x, y) in data_loader:\n",
        "                pred = self(x.to(device))\n",
        "                loss = F.cross_entropy(pred, y.to(device).long())\n",
        "                opt.zero_grad()\n",
        "                loss.backward()\n",
        "                opt.step()\n",
        "    \n",
        "    def finetune(self, test_data_loader, test_data, n_inner_iter=1, samples=1):\n",
        "        self.pretrained = False\n",
        "        accs = []\n",
        "        full_loader = data.DataLoader(test_data, batch_size=200, shuffle=False)\n",
        "        for i, (x, y) in enumerate(tqdm(test_data_loader)):\n",
        "            if i >= samples:\n",
        "                break\n",
        "            net_c = deepcopy(self)\n",
        "\n",
        "        \n",
        "            opt = torch.optim.SGD(net_c.parameters(), lr=1e-2)\n",
        "\n",
        "\n",
        "            for j in range(n_inner_iter):\n",
        "                logits = net_c(x.to(device)).squeeze()\n",
        "                if j == 0:\n",
        "                    with torch.no_grad():\n",
        "                        score0 = logits[y == test_classes[0]].mean()\n",
        "                        score1 = logits[y == test_classes[1]].mean()\n",
        "                        pos = test_classes[0] if score0 > score1 else test_classes[0]\n",
        "                        labels = (y == pos).float()\n",
        "                    \n",
        "                loss = F.binary_cross_entropy_with_logits(logits, labels.to(device))\n",
        "\n",
        "                opt.zero_grad()\n",
        "                loss.backward()\n",
        "                opt.step()\n",
        "            \n",
        "            net_c.eval()\n",
        "            y_pred, y_true = net_c.test(full_loader)\n",
        "            y_true =  (y_true == pos.numpy()).astype(int)\n",
        "            accs.append(acc(y_true, y_pred > 0))\n",
        "        return accs\n",
        "\n",
        "\n",
        "    \n",
        "    def test(self, dataloader):\n",
        "        y_pred = []\n",
        "        y_true = []\n",
        "\n",
        "        for (x, y) in dataloader:\n",
        "            res = self(x.to(device).float())\n",
        "            y_pred.append(res.squeeze().detach().cpu().numpy())\n",
        "            y_true.append(y.squeeze().cpu().numpy())\n",
        "\n",
        "        y_pred = np.hstack(y_pred)\n",
        "        y_true = np.hstack(y_true)\n",
        "\n",
        "        return y_pred, y_true"
      ],
      "metadata": {
        "id": "DP904v4Co3-9"
      },
      "execution_count": null,
      "outputs": []
    },
    {
      "cell_type": "code",
      "source": [
        "basemodel = BaseNet().to(device)\n",
        "basemodel.pretrain(train_set)"
      ],
      "metadata": {
        "colab": {
          "base_uri": "https://localhost:8080/",
          "height": 49,
          "referenced_widgets": [
            "dbe60b3b44ed4e3896dc2e8f272205fc",
            "2bfd19a505d9416b89a6add348dd3101",
            "9fa066a3541e420b8b56d4a7448827dd",
            "7e3d5dea0e204c06b539c8630593ebd9",
            "b5d74ffda8894695a8880f26db2b69c0",
            "923e7896f6674dadbba9d3eb4c27112e",
            "64d88c1e4b9a44ed9b5485fe49f90cac",
            "8f179754b88e4bb3a61f8a19750e9f15",
            "76544e5b19b641f2937b6cdc1ce19981",
            "27309d2cca104a86b1afb014c8312de8",
            "43e49a594af6435e8b553207ebcacf15"
          ]
        },
        "id": "zM1dE1Bb9IZ4",
        "outputId": "fab30942-ba22-4d9a-ff95-6b71d6cfec68"
      },
      "execution_count": null,
      "outputs": [
        {
          "output_type": "display_data",
          "data": {
            "application/vnd.jupyter.widget-view+json": {
              "model_id": "dbe60b3b44ed4e3896dc2e8f272205fc",
              "version_minor": 0,
              "version_major": 2
            },
            "text/plain": [
              "  0%|          | 0/20 [00:00<?, ?it/s]"
            ]
          },
          "metadata": {}
        }
      ]
    },
    {
      "cell_type": "code",
      "source": [
        ""
      ],
      "metadata": {
        "id": "CHhIm2aDI7BM"
      },
      "execution_count": null,
      "outputs": []
    },
    {
      "cell_type": "code",
      "source": [
        "res_base = basemodel.finetune(test_data_loader, test_set, 10, 10)"
      ],
      "metadata": {
        "id": "Ym8rEkeBG8Vi"
      },
      "execution_count": null,
      "outputs": []
    },
    {
      "cell_type": "code",
      "source": [
        "f\"{np.mean(res_base):.4f}\""
      ],
      "metadata": {
        "colab": {
          "base_uri": "https://localhost:8080/",
          "height": 35
        },
        "id": "TTzKh9m_Gvo-",
        "outputId": "fa2fc6a5-8552-46de-83ce-e16b86f65c73"
      },
      "execution_count": null,
      "outputs": [
        {
          "output_type": "execute_result",
          "data": {
            "application/vnd.google.colaboratory.intrinsic+json": {
              "type": "string"
            },
            "text/plain": [
              "'0.6342'"
            ]
          },
          "metadata": {},
          "execution_count": 203
        }
      ]
    },
    {
      "cell_type": "code",
      "source": [
        ""
      ],
      "metadata": {
        "id": "MawtUI6iKrIY"
      },
      "execution_count": null,
      "outputs": []
    }
  ]
}