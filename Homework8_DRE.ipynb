{
  "nbformat": 4,
  "nbformat_minor": 0,
  "metadata": {
    "colab": {
      "name": "Копия блокнота \"Homework8_DRE.ipynb\"",
      "provenance": [],
      "collapsed_sections": []
    },
    "kernelspec": {
      "name": "python3",
      "display_name": "Python 3"
    },
    "language_info": {
      "name": "python"
    },
    "widgets": {
      "application/vnd.jupyter.widget-state+json": {
        "fc142565ea804776b49d56ae12e6a2cc": {
          "model_module": "@jupyter-widgets/controls",
          "model_name": "HBoxModel",
          "model_module_version": "1.5.0",
          "state": {
            "_view_name": "HBoxView",
            "_dom_classes": [],
            "_model_name": "HBoxModel",
            "_view_module": "@jupyter-widgets/controls",
            "_model_module_version": "1.5.0",
            "_view_count": null,
            "_view_module_version": "1.5.0",
            "box_style": "",
            "layout": "IPY_MODEL_98398e02f1904c9881d82b7d9da9a3c8",
            "_model_module": "@jupyter-widgets/controls",
            "children": [
              "IPY_MODEL_2d3d7a54fb7b4295b62f48e72c022942",
              "IPY_MODEL_9fcceeec35c649c7a73b6824acd64f02",
              "IPY_MODEL_afebbae90c684b22a7f85578d0cb1604"
            ]
          }
        },
        "98398e02f1904c9881d82b7d9da9a3c8": {
          "model_module": "@jupyter-widgets/base",
          "model_name": "LayoutModel",
          "model_module_version": "1.2.0",
          "state": {
            "_view_name": "LayoutView",
            "grid_template_rows": null,
            "right": null,
            "justify_content": null,
            "_view_module": "@jupyter-widgets/base",
            "overflow": null,
            "_model_module_version": "1.2.0",
            "_view_count": null,
            "flex_flow": null,
            "width": null,
            "min_width": null,
            "border": null,
            "align_items": null,
            "bottom": null,
            "_model_module": "@jupyter-widgets/base",
            "top": null,
            "grid_column": null,
            "overflow_y": null,
            "overflow_x": null,
            "grid_auto_flow": null,
            "grid_area": null,
            "grid_template_columns": null,
            "flex": null,
            "_model_name": "LayoutModel",
            "justify_items": null,
            "grid_row": null,
            "max_height": null,
            "align_content": null,
            "visibility": null,
            "align_self": null,
            "height": null,
            "min_height": null,
            "padding": null,
            "grid_auto_rows": null,
            "grid_gap": null,
            "max_width": null,
            "order": null,
            "_view_module_version": "1.2.0",
            "grid_template_areas": null,
            "object_position": null,
            "object_fit": null,
            "grid_auto_columns": null,
            "margin": null,
            "display": null,
            "left": null
          }
        },
        "2d3d7a54fb7b4295b62f48e72c022942": {
          "model_module": "@jupyter-widgets/controls",
          "model_name": "HTMLModel",
          "model_module_version": "1.5.0",
          "state": {
            "_view_name": "HTMLView",
            "style": "IPY_MODEL_e7db5acee0d9432488dde03de6d61bbb",
            "_dom_classes": [],
            "description": "",
            "_model_name": "HTMLModel",
            "placeholder": "​",
            "_view_module": "@jupyter-widgets/controls",
            "_model_module_version": "1.5.0",
            "value": "100%",
            "_view_count": null,
            "_view_module_version": "1.5.0",
            "description_tooltip": null,
            "_model_module": "@jupyter-widgets/controls",
            "layout": "IPY_MODEL_147343d3378a403dac5e866cd3cbe898"
          }
        },
        "9fcceeec35c649c7a73b6824acd64f02": {
          "model_module": "@jupyter-widgets/controls",
          "model_name": "FloatProgressModel",
          "model_module_version": "1.5.0",
          "state": {
            "_view_name": "ProgressView",
            "style": "IPY_MODEL_61898ed2e0984f7c9f1549eace858787",
            "_dom_classes": [],
            "description": "",
            "_model_name": "FloatProgressModel",
            "bar_style": "success",
            "max": 500,
            "_view_module": "@jupyter-widgets/controls",
            "_model_module_version": "1.5.0",
            "value": 500,
            "_view_count": null,
            "_view_module_version": "1.5.0",
            "orientation": "horizontal",
            "min": 0,
            "description_tooltip": null,
            "_model_module": "@jupyter-widgets/controls",
            "layout": "IPY_MODEL_3c14e92d5f194ae2860211fa01b3eca4"
          }
        },
        "afebbae90c684b22a7f85578d0cb1604": {
          "model_module": "@jupyter-widgets/controls",
          "model_name": "HTMLModel",
          "model_module_version": "1.5.0",
          "state": {
            "_view_name": "HTMLView",
            "style": "IPY_MODEL_ba86d1a8032e4ccbba8556521d0caf31",
            "_dom_classes": [],
            "description": "",
            "_model_name": "HTMLModel",
            "placeholder": "​",
            "_view_module": "@jupyter-widgets/controls",
            "_model_module_version": "1.5.0",
            "value": " 500/500 [01:07&lt;00:00,  7.65it/s]",
            "_view_count": null,
            "_view_module_version": "1.5.0",
            "description_tooltip": null,
            "_model_module": "@jupyter-widgets/controls",
            "layout": "IPY_MODEL_320bcbe2a9324325937c6db08aecf47c"
          }
        },
        "e7db5acee0d9432488dde03de6d61bbb": {
          "model_module": "@jupyter-widgets/controls",
          "model_name": "DescriptionStyleModel",
          "model_module_version": "1.5.0",
          "state": {
            "_view_name": "StyleView",
            "_model_name": "DescriptionStyleModel",
            "description_width": "",
            "_view_module": "@jupyter-widgets/base",
            "_model_module_version": "1.5.0",
            "_view_count": null,
            "_view_module_version": "1.2.0",
            "_model_module": "@jupyter-widgets/controls"
          }
        },
        "147343d3378a403dac5e866cd3cbe898": {
          "model_module": "@jupyter-widgets/base",
          "model_name": "LayoutModel",
          "model_module_version": "1.2.0",
          "state": {
            "_view_name": "LayoutView",
            "grid_template_rows": null,
            "right": null,
            "justify_content": null,
            "_view_module": "@jupyter-widgets/base",
            "overflow": null,
            "_model_module_version": "1.2.0",
            "_view_count": null,
            "flex_flow": null,
            "width": null,
            "min_width": null,
            "border": null,
            "align_items": null,
            "bottom": null,
            "_model_module": "@jupyter-widgets/base",
            "top": null,
            "grid_column": null,
            "overflow_y": null,
            "overflow_x": null,
            "grid_auto_flow": null,
            "grid_area": null,
            "grid_template_columns": null,
            "flex": null,
            "_model_name": "LayoutModel",
            "justify_items": null,
            "grid_row": null,
            "max_height": null,
            "align_content": null,
            "visibility": null,
            "align_self": null,
            "height": null,
            "min_height": null,
            "padding": null,
            "grid_auto_rows": null,
            "grid_gap": null,
            "max_width": null,
            "order": null,
            "_view_module_version": "1.2.0",
            "grid_template_areas": null,
            "object_position": null,
            "object_fit": null,
            "grid_auto_columns": null,
            "margin": null,
            "display": null,
            "left": null
          }
        },
        "61898ed2e0984f7c9f1549eace858787": {
          "model_module": "@jupyter-widgets/controls",
          "model_name": "ProgressStyleModel",
          "model_module_version": "1.5.0",
          "state": {
            "_view_name": "StyleView",
            "_model_name": "ProgressStyleModel",
            "description_width": "",
            "_view_module": "@jupyter-widgets/base",
            "_model_module_version": "1.5.0",
            "_view_count": null,
            "_view_module_version": "1.2.0",
            "bar_color": null,
            "_model_module": "@jupyter-widgets/controls"
          }
        },
        "3c14e92d5f194ae2860211fa01b3eca4": {
          "model_module": "@jupyter-widgets/base",
          "model_name": "LayoutModel",
          "model_module_version": "1.2.0",
          "state": {
            "_view_name": "LayoutView",
            "grid_template_rows": null,
            "right": null,
            "justify_content": null,
            "_view_module": "@jupyter-widgets/base",
            "overflow": null,
            "_model_module_version": "1.2.0",
            "_view_count": null,
            "flex_flow": null,
            "width": null,
            "min_width": null,
            "border": null,
            "align_items": null,
            "bottom": null,
            "_model_module": "@jupyter-widgets/base",
            "top": null,
            "grid_column": null,
            "overflow_y": null,
            "overflow_x": null,
            "grid_auto_flow": null,
            "grid_area": null,
            "grid_template_columns": null,
            "flex": null,
            "_model_name": "LayoutModel",
            "justify_items": null,
            "grid_row": null,
            "max_height": null,
            "align_content": null,
            "visibility": null,
            "align_self": null,
            "height": null,
            "min_height": null,
            "padding": null,
            "grid_auto_rows": null,
            "grid_gap": null,
            "max_width": null,
            "order": null,
            "_view_module_version": "1.2.0",
            "grid_template_areas": null,
            "object_position": null,
            "object_fit": null,
            "grid_auto_columns": null,
            "margin": null,
            "display": null,
            "left": null
          }
        },
        "ba86d1a8032e4ccbba8556521d0caf31": {
          "model_module": "@jupyter-widgets/controls",
          "model_name": "DescriptionStyleModel",
          "model_module_version": "1.5.0",
          "state": {
            "_view_name": "StyleView",
            "_model_name": "DescriptionStyleModel",
            "description_width": "",
            "_view_module": "@jupyter-widgets/base",
            "_model_module_version": "1.5.0",
            "_view_count": null,
            "_view_module_version": "1.2.0",
            "_model_module": "@jupyter-widgets/controls"
          }
        },
        "320bcbe2a9324325937c6db08aecf47c": {
          "model_module": "@jupyter-widgets/base",
          "model_name": "LayoutModel",
          "model_module_version": "1.2.0",
          "state": {
            "_view_name": "LayoutView",
            "grid_template_rows": null,
            "right": null,
            "justify_content": null,
            "_view_module": "@jupyter-widgets/base",
            "overflow": null,
            "_model_module_version": "1.2.0",
            "_view_count": null,
            "flex_flow": null,
            "width": null,
            "min_width": null,
            "border": null,
            "align_items": null,
            "bottom": null,
            "_model_module": "@jupyter-widgets/base",
            "top": null,
            "grid_column": null,
            "overflow_y": null,
            "overflow_x": null,
            "grid_auto_flow": null,
            "grid_area": null,
            "grid_template_columns": null,
            "flex": null,
            "_model_name": "LayoutModel",
            "justify_items": null,
            "grid_row": null,
            "max_height": null,
            "align_content": null,
            "visibility": null,
            "align_self": null,
            "height": null,
            "min_height": null,
            "padding": null,
            "grid_auto_rows": null,
            "grid_gap": null,
            "max_width": null,
            "order": null,
            "_view_module_version": "1.2.0",
            "grid_template_areas": null,
            "object_position": null,
            "object_fit": null,
            "grid_auto_columns": null,
            "margin": null,
            "display": null,
            "left": null
          }
        },
        "584d706e18eb4e8bb0cee8d8ae25aaa6": {
          "model_module": "@jupyter-widgets/controls",
          "model_name": "HBoxModel",
          "model_module_version": "1.5.0",
          "state": {
            "_view_name": "HBoxView",
            "_dom_classes": [],
            "_model_name": "HBoxModel",
            "_view_module": "@jupyter-widgets/controls",
            "_model_module_version": "1.5.0",
            "_view_count": null,
            "_view_module_version": "1.5.0",
            "box_style": "",
            "layout": "IPY_MODEL_3bdf7acc23d24d0c9e323558b4bce05f",
            "_model_module": "@jupyter-widgets/controls",
            "children": [
              "IPY_MODEL_f5df91dc3ea64fe6a303ffa174bf5098",
              "IPY_MODEL_3f4ee89192e049df8ee4072532dc89b6",
              "IPY_MODEL_d4b5994459d64cffa2cacd9d8a09d677"
            ]
          }
        },
        "3bdf7acc23d24d0c9e323558b4bce05f": {
          "model_module": "@jupyter-widgets/base",
          "model_name": "LayoutModel",
          "model_module_version": "1.2.0",
          "state": {
            "_view_name": "LayoutView",
            "grid_template_rows": null,
            "right": null,
            "justify_content": null,
            "_view_module": "@jupyter-widgets/base",
            "overflow": null,
            "_model_module_version": "1.2.0",
            "_view_count": null,
            "flex_flow": null,
            "width": null,
            "min_width": null,
            "border": null,
            "align_items": null,
            "bottom": null,
            "_model_module": "@jupyter-widgets/base",
            "top": null,
            "grid_column": null,
            "overflow_y": null,
            "overflow_x": null,
            "grid_auto_flow": null,
            "grid_area": null,
            "grid_template_columns": null,
            "flex": null,
            "_model_name": "LayoutModel",
            "justify_items": null,
            "grid_row": null,
            "max_height": null,
            "align_content": null,
            "visibility": null,
            "align_self": null,
            "height": null,
            "min_height": null,
            "padding": null,
            "grid_auto_rows": null,
            "grid_gap": null,
            "max_width": null,
            "order": null,
            "_view_module_version": "1.2.0",
            "grid_template_areas": null,
            "object_position": null,
            "object_fit": null,
            "grid_auto_columns": null,
            "margin": null,
            "display": null,
            "left": null
          }
        },
        "f5df91dc3ea64fe6a303ffa174bf5098": {
          "model_module": "@jupyter-widgets/controls",
          "model_name": "HTMLModel",
          "model_module_version": "1.5.0",
          "state": {
            "_view_name": "HTMLView",
            "style": "IPY_MODEL_7dae6a3e907244d689a8fe9633e983ff",
            "_dom_classes": [],
            "description": "",
            "_model_name": "HTMLModel",
            "placeholder": "​",
            "_view_module": "@jupyter-widgets/controls",
            "_model_module_version": "1.5.0",
            "value": "100%",
            "_view_count": null,
            "_view_module_version": "1.5.0",
            "description_tooltip": null,
            "_model_module": "@jupyter-widgets/controls",
            "layout": "IPY_MODEL_24963bbfdf4247868daf9a64ec81e1e7"
          }
        },
        "3f4ee89192e049df8ee4072532dc89b6": {
          "model_module": "@jupyter-widgets/controls",
          "model_name": "FloatProgressModel",
          "model_module_version": "1.5.0",
          "state": {
            "_view_name": "ProgressView",
            "style": "IPY_MODEL_68209e3323114d56a7fef65772c8ee71",
            "_dom_classes": [],
            "description": "",
            "_model_name": "FloatProgressModel",
            "bar_style": "success",
            "max": 15,
            "_view_module": "@jupyter-widgets/controls",
            "_model_module_version": "1.5.0",
            "value": 15,
            "_view_count": null,
            "_view_module_version": "1.5.0",
            "orientation": "horizontal",
            "min": 0,
            "description_tooltip": null,
            "_model_module": "@jupyter-widgets/controls",
            "layout": "IPY_MODEL_33e360b016b848b2961a88253743a51d"
          }
        },
        "d4b5994459d64cffa2cacd9d8a09d677": {
          "model_module": "@jupyter-widgets/controls",
          "model_name": "HTMLModel",
          "model_module_version": "1.5.0",
          "state": {
            "_view_name": "HTMLView",
            "style": "IPY_MODEL_22aadba63605499b911c0e93aba0dfc8",
            "_dom_classes": [],
            "description": "",
            "_model_name": "HTMLModel",
            "placeholder": "​",
            "_view_module": "@jupyter-widgets/controls",
            "_model_module_version": "1.5.0",
            "value": " 15/15 [10:20&lt;00:00, 41.42s/it]",
            "_view_count": null,
            "_view_module_version": "1.5.0",
            "description_tooltip": null,
            "_model_module": "@jupyter-widgets/controls",
            "layout": "IPY_MODEL_9fdfb69c0b3e4d6aa8131cf109e7ca70"
          }
        },
        "7dae6a3e907244d689a8fe9633e983ff": {
          "model_module": "@jupyter-widgets/controls",
          "model_name": "DescriptionStyleModel",
          "model_module_version": "1.5.0",
          "state": {
            "_view_name": "StyleView",
            "_model_name": "DescriptionStyleModel",
            "description_width": "",
            "_view_module": "@jupyter-widgets/base",
            "_model_module_version": "1.5.0",
            "_view_count": null,
            "_view_module_version": "1.2.0",
            "_model_module": "@jupyter-widgets/controls"
          }
        },
        "24963bbfdf4247868daf9a64ec81e1e7": {
          "model_module": "@jupyter-widgets/base",
          "model_name": "LayoutModel",
          "model_module_version": "1.2.0",
          "state": {
            "_view_name": "LayoutView",
            "grid_template_rows": null,
            "right": null,
            "justify_content": null,
            "_view_module": "@jupyter-widgets/base",
            "overflow": null,
            "_model_module_version": "1.2.0",
            "_view_count": null,
            "flex_flow": null,
            "width": null,
            "min_width": null,
            "border": null,
            "align_items": null,
            "bottom": null,
            "_model_module": "@jupyter-widgets/base",
            "top": null,
            "grid_column": null,
            "overflow_y": null,
            "overflow_x": null,
            "grid_auto_flow": null,
            "grid_area": null,
            "grid_template_columns": null,
            "flex": null,
            "_model_name": "LayoutModel",
            "justify_items": null,
            "grid_row": null,
            "max_height": null,
            "align_content": null,
            "visibility": null,
            "align_self": null,
            "height": null,
            "min_height": null,
            "padding": null,
            "grid_auto_rows": null,
            "grid_gap": null,
            "max_width": null,
            "order": null,
            "_view_module_version": "1.2.0",
            "grid_template_areas": null,
            "object_position": null,
            "object_fit": null,
            "grid_auto_columns": null,
            "margin": null,
            "display": null,
            "left": null
          }
        },
        "68209e3323114d56a7fef65772c8ee71": {
          "model_module": "@jupyter-widgets/controls",
          "model_name": "ProgressStyleModel",
          "model_module_version": "1.5.0",
          "state": {
            "_view_name": "StyleView",
            "_model_name": "ProgressStyleModel",
            "description_width": "",
            "_view_module": "@jupyter-widgets/base",
            "_model_module_version": "1.5.0",
            "_view_count": null,
            "_view_module_version": "1.2.0",
            "bar_color": null,
            "_model_module": "@jupyter-widgets/controls"
          }
        },
        "33e360b016b848b2961a88253743a51d": {
          "model_module": "@jupyter-widgets/base",
          "model_name": "LayoutModel",
          "model_module_version": "1.2.0",
          "state": {
            "_view_name": "LayoutView",
            "grid_template_rows": null,
            "right": null,
            "justify_content": null,
            "_view_module": "@jupyter-widgets/base",
            "overflow": null,
            "_model_module_version": "1.2.0",
            "_view_count": null,
            "flex_flow": null,
            "width": null,
            "min_width": null,
            "border": null,
            "align_items": null,
            "bottom": null,
            "_model_module": "@jupyter-widgets/base",
            "top": null,
            "grid_column": null,
            "overflow_y": null,
            "overflow_x": null,
            "grid_auto_flow": null,
            "grid_area": null,
            "grid_template_columns": null,
            "flex": null,
            "_model_name": "LayoutModel",
            "justify_items": null,
            "grid_row": null,
            "max_height": null,
            "align_content": null,
            "visibility": null,
            "align_self": null,
            "height": null,
            "min_height": null,
            "padding": null,
            "grid_auto_rows": null,
            "grid_gap": null,
            "max_width": null,
            "order": null,
            "_view_module_version": "1.2.0",
            "grid_template_areas": null,
            "object_position": null,
            "object_fit": null,
            "grid_auto_columns": null,
            "margin": null,
            "display": null,
            "left": null
          }
        },
        "22aadba63605499b911c0e93aba0dfc8": {
          "model_module": "@jupyter-widgets/controls",
          "model_name": "DescriptionStyleModel",
          "model_module_version": "1.5.0",
          "state": {
            "_view_name": "StyleView",
            "_model_name": "DescriptionStyleModel",
            "description_width": "",
            "_view_module": "@jupyter-widgets/base",
            "_model_module_version": "1.5.0",
            "_view_count": null,
            "_view_module_version": "1.2.0",
            "_model_module": "@jupyter-widgets/controls"
          }
        },
        "9fdfb69c0b3e4d6aa8131cf109e7ca70": {
          "model_module": "@jupyter-widgets/base",
          "model_name": "LayoutModel",
          "model_module_version": "1.2.0",
          "state": {
            "_view_name": "LayoutView",
            "grid_template_rows": null,
            "right": null,
            "justify_content": null,
            "_view_module": "@jupyter-widgets/base",
            "overflow": null,
            "_model_module_version": "1.2.0",
            "_view_count": null,
            "flex_flow": null,
            "width": null,
            "min_width": null,
            "border": null,
            "align_items": null,
            "bottom": null,
            "_model_module": "@jupyter-widgets/base",
            "top": null,
            "grid_column": null,
            "overflow_y": null,
            "overflow_x": null,
            "grid_auto_flow": null,
            "grid_area": null,
            "grid_template_columns": null,
            "flex": null,
            "_model_name": "LayoutModel",
            "justify_items": null,
            "grid_row": null,
            "max_height": null,
            "align_content": null,
            "visibility": null,
            "align_self": null,
            "height": null,
            "min_height": null,
            "padding": null,
            "grid_auto_rows": null,
            "grid_gap": null,
            "max_width": null,
            "order": null,
            "_view_module_version": "1.2.0",
            "grid_template_areas": null,
            "object_position": null,
            "object_fit": null,
            "grid_auto_columns": null,
            "margin": null,
            "display": null,
            "left": null
          }
        }
      }
    },
    "accelerator": "GPU"
  },
  "cells": [
    {
      "cell_type": "code",
      "execution_count": 1,
      "metadata": {
        "id": "botyZAC03R1t",
        "colab": {
          "base_uri": "https://localhost:8080/"
        },
        "outputId": "cd51dd56-cb9d-4ce3-d00a-94fd4aabda64"
      },
      "outputs": [
        {
          "output_type": "stream",
          "name": "stdout",
          "text": [
            "Cloning into 'dul_2021'...\n",
            "remote: Enumerating objects: 298, done.\u001b[K\n",
            "remote: Counting objects: 100% (127/127), done.\u001b[K\n",
            "remote: Compressing objects: 100% (65/65), done.\u001b[K\n",
            "remote: Total 298 (delta 74), reused 67 (delta 58), pack-reused 171\u001b[K\n",
            "Receiving objects: 100% (298/298), 53.98 MiB | 30.83 MiB/s, done.\n",
            "Resolving deltas: 100% (135/135), done.\n",
            "renamed 'dul_2021/Homework/hw1/data/hw1_data/geoffrey-hinton.jpg' -> 'dul_2021/Homework/hw1/data/geoffrey-hinton.jpg'\n",
            "renamed 'dul_2021/Homework/hw1/data/hw1_data/mnist_colored.pkl' -> 'dul_2021/Homework/hw1/data/mnist_colored.pkl'\n",
            "renamed 'dul_2021/Homework/hw1/data/hw1_data/mnist.pkl' -> 'dul_2021/Homework/hw1/data/mnist.pkl'\n",
            "renamed 'dul_2021/Homework/hw1/data/hw1_data/shapes_colored.pkl' -> 'dul_2021/Homework/hw1/data/shapes_colored.pkl'\n",
            "renamed 'dul_2021/Homework/hw1/data/hw1_data/shapes.pkl' -> 'dul_2021/Homework/hw1/data/shapes.pkl'\n",
            "renamed 'dul_2021/Homework/hw1/data/hw1_data/smiley.jpg' -> 'dul_2021/Homework/hw1/data/smiley.jpg'\n",
            "Processing ./dul_2021\n",
            "\u001b[33m  DEPRECATION: A future pip version will change local packages to be built in-place without first copying to a temporary directory. We recommend you use --use-feature=in-tree-build to test your packages with this new behavior before it becomes the default.\n",
            "   pip 21.3 will remove support for this functionality. You can find discussion regarding this at https://github.com/pypa/pip/issues/7555.\u001b[0m\n",
            "Building wheels for collected packages: dul-2021\n",
            "  Building wheel for dul-2021 (setup.py) ... \u001b[?25l\u001b[?25hdone\n",
            "  Created wheel for dul-2021: filename=dul_2021-0.1.0-py3-none-any.whl size=24553 sha256=8e78150d3355bda945d80cc10cf67097dd05addb6c59e9f6394b124dec9da8e5\n",
            "  Stored in directory: /tmp/pip-ephem-wheel-cache-clv1e6v3/wheels/55/59/29/0fb1c635652157734f4d741f32fc11979149684e83e919de06\n",
            "Successfully built dul-2021\n",
            "Installing collected packages: dul-2021\n",
            "  Attempting uninstall: dul-2021\n",
            "    Found existing installation: dul-2021 0.1.0\n",
            "    Uninstalling dul-2021-0.1.0:\n",
            "      Successfully uninstalled dul-2021-0.1.0\n",
            "Successfully installed dul-2021-0.1.0\n"
          ]
        }
      ],
      "source": [
        "!if [ -d dul_2021 ]; then rm -Rf dul_2021; fi\n",
        "!git clone https://github.com/GrigoryBartosh/dul_2021\n",
        "!unzip -qq dul_2021/Homework/hw1/data/hw1_data.zip -d dul_2021/Homework/hw1/data/\n",
        "!mv -v dul_2021/Homework/hw1/data/hw1_data/* dul_2021/Homework/hw1/data/\n",
        "!rmdir dul_2021/Homework/hw1/data/hw1_data/\n",
        "!pip install ./dul_2021"
      ]
    },
    {
      "cell_type": "code",
      "source": [
        "import torch\n",
        "import torch.nn as nn\n",
        "import torch.utils.data as data\n",
        "from torch.optim import Adam\n",
        "import torch.nn.functional as F\n",
        "from torch.distributions import MultivariateNormal\n",
        "from tqdm.auto import tqdm, trange\n",
        "import numpy as np\n",
        "\n",
        "device = torch.device(\"cuda\" if torch.cuda.is_available() else \"cpu\")"
      ],
      "metadata": {
        "id": "fVjq5oAxztdb"
      },
      "execution_count": 2,
      "outputs": []
    },
    {
      "cell_type": "code",
      "metadata": {
        "id": "ZHWosWrbpO5Y"
      },
      "source": [
        "from dul_2021.utils.hw8_utils import *"
      ],
      "execution_count": 3,
      "outputs": []
    },
    {
      "cell_type": "markdown",
      "source": [
        "# Question 1. KMM"
      ],
      "metadata": {
        "id": "WGaJ2yY4bGWo"
      }
    },
    {
      "cell_type": "markdown",
      "source": [
        "## Notations from practice\n",
        "\n",
        "*   $p_{nu}(x)$ - pdf of numerator\n",
        "*   $p_{de}(x)$ - pdf of denominator\n",
        "*   $r(x)=\\frac{p_{nu}(x)}{p_{de}(x)}$ - density ratio\n",
        "*   $p_{nu}^*, p_{du}^*, r^*$ - estimatinos of respective functions\n",
        "*   $\\{x^{nu}_i\\}_{i=1}^{n_{nu}}$ - sample from numerator distribution\n",
        "*   $\\{x^{de}_i\\}_{i=1}^{n_{de}}$ - sample from denominator distribution\n",
        "\n",
        "\n",
        "\n",
        "## KMM objective\n",
        "\n",
        "Here we will implement Kernel Mean Matching (KMM) method for density ratio estimation. The basic idea of KMM is to 'match' expections of kernel function:\n",
        "\n",
        "$$argmin_{r^*} ||E_{p_{de}}r^*(x)K(\\cdot, x) - E_{p_{nu}}K(\\cdot, x)||$$\n",
        "\n",
        "Where $K(x, x') = exp(-\\frac{|x-y|^2}{2\\sigma^2})$. Emperical variant of this objective can be rewritten as follows:\n",
        "\n",
        "$$argmin_{r^*} \\frac{1}{n_{de}^2} (r^*_{de})^t K_{de, de} r^*_{de} - \\frac{2}{n_{nu}n_{de} }(r^*_{de})^t K_{de, nu}1_{n_{nu}}$$\n",
        "\n",
        "Where\n",
        "\n",
        "\n",
        "*   $r^*_{de}$ - vector with $(r^*_{de})_i=r^*(x^{de}_i)$\n",
        "*   $K_{de, de}$ - matrix with $(K_{de, de})_{i, j} = K(x^{de}_i, x^{de}_j)$\n",
        "*   $K_{de, nu}$ - matrix with $(K_{de, nu})_{i, j} = K(x^{de}_i, x^{nu}_j)$\n",
        "*   $1_{n_{nu}}$ - vector with $n_{nu}$ ones\n",
        "\n",
        "\n",
        "## You will provide these deliverables\n",
        "Density ratio on $[-2, 2]$.\n"
      ],
      "metadata": {
        "id": "9puPlBKicfOq"
      }
    },
    {
      "cell_type": "code",
      "source": [
        "plot_data_q1() # distributions"
      ],
      "metadata": {
        "colab": {
          "base_uri": "https://localhost:8080/",
          "height": 282
        },
        "id": "_k_Zs9_goMtN",
        "outputId": "b5d6cc2d-344a-4adc-fb6a-7218e4edd365"
      },
      "execution_count": null,
      "outputs": [
        {
          "output_type": "display_data",
          "data": {
            "text/plain": [
              "<Figure size 432x288 with 0 Axes>"
            ]
          },
          "metadata": {}
        },
        {
          "output_type": "display_data",
          "data": {
            "image/png": "[encoded data removed]",
            "text/plain": [
              "<Figure size 432x288 with 1 Axes>"
            ]
          },
          "metadata": {
            "needs_background": "light"
          }
        }
      ]
    },
    {
      "cell_type": "code",
      "source": [
        "class KMM(nn.Module): \n",
        "  def __init__(self, hd=128, sigma=0.15):\n",
        "    super().__init__()\n",
        "    self.sigma = sigma\n",
        "    self.r = nn.Sequential(nn.Linear(1, hd), nn.ReLU(), \n",
        "                           nn.Linear(hd, hd), nn.ReLU(),\n",
        "                           nn.Linear(hd, 1), nn.Softplus())\n",
        "    \n",
        "  def fit(self, data_nu, data_de, bs=512, lr=1e-3, n_epochs=500):\n",
        "    data_nu_load = data.DataLoader(data_nu, batch_size=bs, shuffle=True)\n",
        "    data_de_load = data.DataLoader(data_de, batch_size=bs, shuffle=True)\n",
        "    optimizer = Adam(self.r.parameters(), lr=lr)\n",
        "\n",
        "    for epoch in tqdm(range(n_epochs)):\n",
        "      for (b_nu, b_de) in zip(data_nu_load, data_de_load): \n",
        "        b_nu = b_nu.view(- 1, 1).float()\n",
        "        n_nu = len(b_nu)\n",
        "        r_nu = torch.ones_like(b_nu)\n",
        "\n",
        "        b_de = b_de.view(- 1, 1).float()\n",
        "        n_de = len(b_de)\n",
        "        r_de = self.r(b_de)\n",
        "        \n",
        "        kdn = - (- 2 * (b_de @ b_nu.T) + b_de**2 + b_nu.T**2) / (2 * self.sigma**2)\n",
        "        kdn = torch.exp(kdn)\n",
        "        kdd = - (- 2 * (b_de @ b_de.T) + b_de**2 + b_de.T**2) / (2 * self.sigma**2)\n",
        "        kdd = torch.exp(kdd)\n",
        "\n",
        "        loss = ((r_de.T @ kdd @ r_de) / ((n_de)**2)) -  (2 * (r_de.T @ kdn @ r_nu) / (n_de * n_nu))\n",
        "        optimizer.zero_grad()\n",
        "        loss.backward()\n",
        "        optimizer.step()\n",
        "        "
      ],
      "metadata": {
        "id": "aUQy8YFjg6l9"
      },
      "execution_count": null,
      "outputs": []
    },
    {
      "cell_type": "code",
      "source": [
        "def q1(data_nu, data_de):\n",
        "  \"\"\"\n",
        "  data_nu - An [n_nu] dataset with samples from numerator's distribution\n",
        "  data_de - An [n_de] dataset with samples from denominators's distribution\n",
        "  \n",
        "  Returns\n",
        "    - a np.array with density ratios of np.linspace(-2., 2, num=100)\n",
        "  \"\"\"\n",
        "  model = KMM()\n",
        "  model.fit(data_nu, data_de)\n",
        "  with torch.no_grad():\n",
        "  ### you need to calculate density ratio on x and return it\n",
        "    x = np.linspace(-2., 2, num=100)        \n",
        "    p = model.r(torch.FloatTensor(x.reshape(- 1, 1))).cpu().numpy()\n",
        "  return p"
      ],
      "metadata": {
        "id": "4-jdrQdePnCk"
      },
      "execution_count": null,
      "outputs": []
    },
    {
      "cell_type": "code",
      "source": [
        "q1_results(q1)"
      ],
      "metadata": {
        "colab": {
          "base_uri": "https://localhost:8080/",
          "height": 313,
          "referenced_widgets": [
            "fc142565ea804776b49d56ae12e6a2cc",
            "98398e02f1904c9881d82b7d9da9a3c8",
            "2d3d7a54fb7b4295b62f48e72c022942",
            "9fcceeec35c649c7a73b6824acd64f02",
            "afebbae90c684b22a7f85578d0cb1604",
            "e7db5acee0d9432488dde03de6d61bbb",
            "147343d3378a403dac5e866cd3cbe898",
            "61898ed2e0984f7c9f1549eace858787",
            "3c14e92d5f194ae2860211fa01b3eca4",
            "ba86d1a8032e4ccbba8556521d0caf31",
            "320bcbe2a9324325937c6db08aecf47c"
          ]
        },
        "id": "HATwLzV5sUnh",
        "outputId": "62f1b7b2-aa41-4847-f3a3-fdef8071251b"
      },
      "execution_count": null,
      "outputs": [
        {
          "output_type": "display_data",
          "data": {
            "application/vnd.jupyter.widget-view+json": {
              "model_id": "fc142565ea804776b49d56ae12e6a2cc",
              "version_minor": 0,
              "version_major": 2
            },
            "text/plain": [
              "  0%|          | 0/500 [00:00<?, ?it/s]"
            ]
          },
          "metadata": {}
        },
        {
          "output_type": "display_data",
          "data": {
            "text/plain": [
              "<Figure size 432x288 with 0 Axes>"
            ]
          },
          "metadata": {}
        },
        {
          "output_type": "display_data",
          "data": {
            "image/png": "[encoded data removed]",
            "text/plain": [
              "<Figure size 432x288 with 1 Axes>"
            ]
          },
          "metadata": {
            "needs_background": "light"
          }
        }
      ]
    },
    {
      "cell_type": "markdown",
      "source": [
        "# Question 2. AVB"
      ],
      "metadata": {
        "id": "uBag5rcAckn8"
      }
    },
    {
      "cell_type": "markdown",
      "source": [
        "Here we will implement [Adversairal Variational Bayes](https://dl.acm.org/doi/pdf/10.5555/3305890.3305928).\n",
        "\n",
        "You may experiment with different hyperparameters and architecture designs, but the following designs for the AVB architecture may be useful.\n",
        "\n",
        "```\n",
        "Classifier (T)\n",
        "    Conv2d(1, 32, 3, 1, 1), \n",
        "    ReLU(),\n",
        "    Conv2d(32, 64, 3, 2, 1),\n",
        "    ReLU(), \n",
        "    Conv2d(64, 128, 3, 2, 1), \n",
        "    ReLU(), \n",
        "    Conv2d(128, 128, 3, 2, 1), \n",
        "    ReLU(),\n",
        "    # reshape + add latent\n",
        "    Linear(4 * 4 * 128 + ld, hd), \n",
        "    ReLU(),\n",
        "    Linear(hd, hd), \n",
        "    ReLU(),\n",
        "    Linear(hd, 1)\n",
        "\n",
        "\n",
        "Encoder (E)\n",
        "\n",
        "    Conv2d(1, 32, 3, 1, 1), \n",
        "    ReLU(),\n",
        "    Conv2d(32, 64, 3, 2, 1),\n",
        "    ReLU(), \n",
        "    Conv2d(64, 128, 3, 2, 1), \n",
        "    ReLU(), \n",
        "    Conv2d(128, 128, 3, 2, 1), \n",
        "    ReLU(), \n",
        "    # add noise + reshape\n",
        "    Linear(4 * 4 * 128 + nd, ld)\n",
        "\n",
        "Decoder (D)\n",
        "    ConvTranspose2d(128, 128, 3, 2, 1), \n",
        "    ReLU(), \n",
        "    ConvTranspose2d(128, 64, 4, 2, 1), \n",
        "    ReLU(), \n",
        "    ConvTranspose2d(64, 32, 4, 2, 1), \n",
        "    ReLU(), \n",
        "    Conv2d(32, 1, 3, 1, 1)\n",
        "    # reshape\n",
        "    Linear(ld, 4 * 4 * 128), \n",
        "    ReLU()\n",
        "```\n",
        "\n",
        "**Reminder.** Objective for AVB\n",
        "\n",
        "$$max_{\\theta, \\phi} E \\log p_\\theta(x|z_\\phi(x)) - T(x, z_\\phi(x))$$\n",
        "$$max_{T} E_x \\bigg(E_{q_\\phi(z|x)} \\log\\big(\\sigma (T(x, z))\\big) + E_{p(z)} \\log\\big(1 - \\sigma (T(x, z))\\big)\\bigg) $$\n",
        "\n",
        "$\\phi$ - parameters of encoder, $\\theta$ - parameters of decoder\n",
        "\n",
        "\n",
        "**You will provide the following deliverables**\n",
        "\n",
        "\n",
        "1.   Over the course of training, record the elbo and loss of the classifier T ber batch.\n",
        "2. Report the final test set performances of your final models\n",
        "3. 100 samples from your trained AVB"
      ],
      "metadata": {
        "id": "-V1V1syvbINX"
      }
    },
    {
      "cell_type": "code",
      "source": [
        "class Classifier(nn.Module):\n",
        "  def __init__(self, ld, hd):\n",
        "    super().__init__()\n",
        "    self.conv = nn.Sequential(nn.Conv2d(1, 32, 3, 1, 1), nn.ReLU(),\n",
        "                              nn.Conv2d(32, 64, 3, 2, 1), nn.ReLU(), \n",
        "                              nn.Conv2d(64, 128, 3, 2, 1), nn.ReLU(),\n",
        "                              nn.Conv2d(128, 128, 3, 2, 1), nn.ReLU()\n",
        "                              )\n",
        "    \n",
        "    self.lin = nn.Sequential(nn.Linear(4 * 4 * 128 + ld, hd), nn.ReLU(), \n",
        "                             nn.Linear(hd, hd), nn.ReLU(), \n",
        "                             nn.Linear(hd, 1)\n",
        "                             )\n",
        "    \n",
        "  def forward(self, x, z):\n",
        "    out = self.conv(x).flatten(1)\n",
        "    return self.lin(torch.cat((out, z), dim=1))"
      ],
      "metadata": {
        "id": "_3TwvBCyt-kx"
      },
      "execution_count": 4,
      "outputs": []
    },
    {
      "cell_type": "code",
      "source": [
        "class Encoder(nn.Module):\n",
        "  def __init__(self, ld, nd):\n",
        "    super().__init__()\n",
        "    self.conv = nn.Sequential(nn.Conv2d(1, 32, 3, 1, 1), nn.ReLU(),\n",
        "                              nn.Conv2d(32, 64, 3, 2, 1), nn.ReLU(), \n",
        "                              nn.Conv2d(64, 128, 3, 2, 1), nn.ReLU(), \n",
        "                              nn.Conv2d(128, 128, 3, 2, 1), nn.ReLU()\n",
        "                              )\n",
        "    \n",
        "    self.lin = nn.Linear(4 * 4 * 128 + nd, ld)\n",
        "\n",
        "  def forward(self, x, noise):\n",
        "    out = self.conv(x).flatten(1)\n",
        "    return self.lin(torch.cat((out, noise), dim=1))"
      ],
      "metadata": {
        "id": "V6SGVTjvwwif"
      },
      "execution_count": 5,
      "outputs": []
    },
    {
      "cell_type": "code",
      "source": [
        "class Decoder(nn.Module):\n",
        "  def __init__(self, ld):\n",
        "    super().__init__()\n",
        "    self.conv = nn.Sequential(nn.ConvTranspose2d(128, 128, 3, 2, 1), nn.ReLU(), \n",
        "                              nn.ConvTranspose2d(128, 64, 4, 2, 1), nn.ReLU(), \n",
        "                              nn.ConvTranspose2d(64, 32, 4, 2, 1), nn.ReLU(), \n",
        "                              nn.Conv2d(32, 1, 3, 1, 1)\n",
        "                              )\n",
        "    \n",
        "    self.lin = nn.Sequential(nn.Linear(ld, 4 * 4 * 128), nn.ReLU())\n",
        "\n",
        "  def forward(self, x):\n",
        "    bs = x.shape[0]\n",
        "    return self.conv(self.lin(x).reshape(bs, 128, 4, 4))"
      ],
      "metadata": {
        "id": "hNcv2wZZxwXK"
      },
      "execution_count": 6,
      "outputs": []
    },
    {
      "cell_type": "code",
      "source": [
        "class AVB(nn.Module):\n",
        "  def __init__(self, ld=16, nd=2, hd=64):\n",
        "    super().__init__()\n",
        "    self.T = Classifier(ld, hd)\n",
        "    self.E = Encoder(ld, nd)\n",
        "    self.D = Decoder(ld)\n",
        "    self.l_dist = MultivariateNormal(torch.zeros(ld, device=device), \n",
        "                                     torch.eye(ld, device=device))\n",
        "    self.n_dist = MultivariateNormal(torch.zeros(nd, device=device), \n",
        "                                     torch.eye(nd, device=device))    \n",
        "    \n",
        "  def loss(self, b):\n",
        "    bs = b.shape[0]\n",
        "    noise = self.n_dist.sample((bs,))\n",
        "    z = self.E(b, noise)\n",
        "    b_recon = self.D(z)\n",
        "    loss_recon = F.mse_loss(b, b_recon, reduction='none').\\\n",
        "                  reshape(bs, - 1).sum(dim=1)\n",
        "    loss_elbo = loss_recon + self.T(b, z)\n",
        "    with torch.no_grad():\n",
        "      noise = self.n_dist.sample((bs,))\n",
        "      z = self.E(b, noise)\n",
        "    sam = self.l_dist.sample((bs,))\n",
        "    real = torch.sigmoid(self.T(b, z))\n",
        "    fake = torch.sigmoid(self.T(b, sam))\n",
        "    loss_real = F.binary_cross_entropy(real, torch.ones_like(real))\n",
        "    loss_fake = F.binary_cross_entropy(fake, torch.zeros_like(fake))\n",
        "    loss_clf = loss_real + loss_fake\n",
        "    return loss_elbo.mean(), loss_clf.mean()\n",
        "\n",
        "  @torch.no_grad()\n",
        "  def test(self, test_data):\n",
        "    n = 0\n",
        "    loss_elbo_summed = 0\n",
        "    loss_clf_summed = 0\n",
        "    for b in test_data:\n",
        "      bs = b.shape[0]\n",
        "      loss_elbo, loss_clf = self.loss(b.to(device))\n",
        "      n += bs\n",
        "      loss_elbo_summed += bs * loss_elbo\n",
        "      loss_clf_summed += bs * loss_clf\n",
        "    loss_elbo_mean = loss_elbo_summed.item() / n\n",
        "    loss_clf_mean = loss_clf_summed.item() / n\n",
        "    return [loss_elbo_mean, loss_clf_mean]\n",
        "\n",
        "  def fit(self, train_data, test_data, epochs, lr=1e-5):\n",
        "    l_train, l_test = [], []\n",
        "    optim1 = Adam(list(self.E.parameters()) + \\\n",
        "                  list(self.D.parameters()), lr=lr)\n",
        "    optim2 = Adam(self.T.parameters(), lr=lr)\n",
        "    l_test.append(self.test(test_data))\n",
        "    for epoch in trange(epochs):\n",
        "      for b in train_data:\n",
        "        loss_elbo, loss_clf = self.loss(b.to(device))\n",
        "        optim1.zero_grad()\n",
        "        loss_elbo.backward()\n",
        "        optim1.step()\n",
        "        optim2.zero_grad()\n",
        "        loss_clf.backward()\n",
        "        optim2.step()\n",
        "        l_train.append([loss_elbo.item(), loss_clf.item()])\n",
        "    l_test.append(self.test(test_data))\n",
        "    return np.array(l_train), np.array(l_test)\n",
        "\n",
        "  def sample(self, n):\n",
        "    return torch.sigmoid(self.D(self.l_dist.sample((n,))))"
      ],
      "metadata": {
        "id": "pxu1F-e10py4"
      },
      "execution_count": 44,
      "outputs": []
    },
    {
      "cell_type": "code",
      "source": [
        "def q2(train_data, test_data):\n",
        "  \"\"\"\n",
        "  train_data - A (n_train, 28, 28, 1) uint8 numpy array of binary images with values in {0, 1}\n",
        "   Returns\n",
        "  - a (# of training iterations,) numpy array of elbo_losses evaluated every minibatch\n",
        "  - a (# of training iterations,) numpy array of classifier_losses evaluated every minibatch\n",
        "  - a torch tensor of size (100, 1, 28, 28) of samples with values in {0, 1}\n",
        "  \"\"\"\n",
        "  train_data = np.transpose(train_data, (0, 3, 1, 2)).astype(np.float32)\n",
        "  training = data.DataLoader(train_data, batch_size=256, shuffle=True)\n",
        "\n",
        "  test_data = np.transpose(test_data, (0, 3, 1, 2)).astype(np.float32)\n",
        "  testing = data.DataLoader(test_data, batch_size=256, shuffle=True)\n",
        "    \n",
        "  model = AVB().to(device)\n",
        "  l_train, l_test = model.fit(training, testing, epochs=15)\n",
        "\n",
        "  samples = model.sample(100)\n",
        "  samples = samples.detach().cpu().numpy()\n",
        "\n",
        "  return l_train[:, 0], l_train[:, 1], l_test[:, 0], l_test[:, 1], samples"
      ],
      "metadata": {
        "id": "IFeqntQsUkYG"
      },
      "execution_count": 45,
      "outputs": []
    },
    {
      "cell_type": "code",
      "source": [
        "q2_results(q2)"
      ],
      "metadata": {
        "colab": {
          "base_uri": "https://localhost:8080/",
          "height": 885,
          "referenced_widgets": [
            "584d706e18eb4e8bb0cee8d8ae25aaa6",
            "3bdf7acc23d24d0c9e323558b4bce05f",
            "f5df91dc3ea64fe6a303ffa174bf5098",
            "3f4ee89192e049df8ee4072532dc89b6",
            "d4b5994459d64cffa2cacd9d8a09d677",
            "7dae6a3e907244d689a8fe9633e983ff",
            "24963bbfdf4247868daf9a64ec81e1e7",
            "68209e3323114d56a7fef65772c8ee71",
            "33e360b016b848b2961a88253743a51d",
            "22aadba63605499b911c0e93aba0dfc8",
            "9fdfb69c0b3e4d6aa8131cf109e7ca70"
          ]
        },
        "id": "15z2ji8YBLWw",
        "outputId": "c14bd737-6537-404d-f285-cfc7e864ce6d"
      },
      "execution_count": 46,
      "outputs": [
        {
          "output_type": "display_data",
          "data": {
            "application/vnd.jupyter.widget-view+json": {
              "model_id": "584d706e18eb4e8bb0cee8d8ae25aaa6",
              "version_minor": 0,
              "version_major": 2
            },
            "text/plain": [
              "  0%|          | 0/15 [00:00<?, ?it/s]"
            ]
          },
          "metadata": {}
        },
        {
          "output_type": "display_data",
          "data": {
            "image/png": "[encoded data removed]",
            "text/plain": [
              "<Figure size 432x288 with 1 Axes>"
            ]
          },
          "metadata": {
            "needs_background": "light"
          }
        },
        {
          "output_type": "display_data",
          "data": {
            "image/png": "[encoded data removed]",
            "text/plain": [
              "<Figure size 720x720 with 1 Axes>"
            ]
          },
          "metadata": {
            "needs_background": "light"
          }
        }
      ]
    },
    {
      "cell_type": "code",
      "source": [
        ""
      ],
      "metadata": {
        "id": "UvY7ZnKOf_p3"
      },
      "execution_count": null,
      "outputs": []
    }
  ]
}